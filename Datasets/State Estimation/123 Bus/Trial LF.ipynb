{
 "cells": [
  {
   "cell_type": "code",
   "execution_count": 1,
   "id": "2be53293",
   "metadata": {},
   "outputs": [],
   "source": [
    "import os\n",
    "import pandas as pd\n",
    "from GraphBuild import * \n",
    "import matplotlib.pyplot as plt\n",
    "import random\n",
    "import pickle"
   ]
  },
  {
   "cell_type": "code",
   "execution_count": 2,
   "id": "07fe9289",
   "metadata": {},
   "outputs": [],
   "source": [
    "# Initialize Circuit\n",
    "FolderName = os.path.dirname(os.path.realpath(\"__file__\"))\n",
    "DSSfile = r\"\"+ FolderName+ \"\\IEEE123Master.dss\"\n",
    "Ckt_obj = CircuitSetup(DSSfile)  #creating a DSS object instance"
   ]
  },
  {
   "cell_type": "code",
   "execution_count": 3,
   "id": "abbafaa8",
   "metadata": {},
   "outputs": [],
   "source": [
    "G_original =  build_graph(Ckt_obj)\n",
    "nx.readwrite.gml.write_gml(G_original,\"123busEx.gml\") #Graph undirected with edge features and node features which are constant\n",
    "node_list=list(G_original.nodes())\n",
    "edge_list=list(G_original.edges())"
   ]
  },
  {
   "cell_type": "code",
   "execution_count": 20,
   "id": "517a3fb6",
   "metadata": {},
   "outputs": [
    {
     "data": {
      "text/plain": [
       "'150'"
      ]
     },
     "execution_count": 20,
     "metadata": {},
     "output_type": "execute_result"
    }
   ],
   "source": [
    "node_list[0]"
   ]
  },
  {
   "cell_type": "code",
   "execution_count": 21,
   "id": "1e0b8c2f",
   "metadata": {},
   "outputs": [],
   "source": [
    "nbus_sensors = math.ceil(len(node_list)*0.4)\n",
    "nbranch_sensors = math.ceil(len(edge_list)*0.4)"
   ]
  },
  {
   "cell_type": "code",
   "execution_count": 27,
   "id": "fc731b21",
   "metadata": {},
   "outputs": [
    {
     "name": "stdout",
     "output_type": "stream",
     "text": [
      "['18', '81', '3', '17', '77', '152', '27', '9', '150', '49', '610', '5', '46', '85', '38', '8', '7', '57', '99', '160r', '160', '113', '42', '50', '45', '97', '22', '30', '96', '108', '114', '95', '74', '61s', '16', '65', '92', '26', '13', '2', '20', '37', '25r', '55', '1', '76', '100', '87', '25', '63', '48', '11', '300_open']\n"
     ]
    }
   ],
   "source": [
    "source_bus = node_list[0]\n",
    "bus_sensors = random.sample(node_list,nbus_sensors)\n",
    "if source_bus not in bus_sensors:\n",
    "    bus_sensors = random.sample(node_list,nbus_sensors)\n",
    "else:\n",
    "    print(bus_sensors)"
   ]
  },
  {
   "cell_type": "code",
   "execution_count": 28,
   "id": "115bb297",
   "metadata": {},
   "outputs": [],
   "source": [
    "with open('bus_sensors.pkl', 'wb') as f:\n",
    "    pickle.dump(bus_sensors, f)"
   ]
  },
  {
   "cell_type": "code",
   "execution_count": 33,
   "id": "a3243761",
   "metadata": {},
   "outputs": [
    {
     "name": "stdout",
     "output_type": "stream",
     "text": [
      "[('8', '12'), ('81', '84'), ('13', '152'), ('5', '6'), ('51', '151'), ('21', '23'), ('34', '15'), ('57', '58'), ('60', '61'), ('23', '24'), ('160r', '160'), ('18', '19'), ('52', '152'), ('87', '88'), ('35', '135'), ('61', '61s'), ('101', '105'), ('49', '50'), ('73', '74'), ('30', '250'), ('26', '27'), ('78', '80'), ('110', '112'), ('40', '41'), ('23', '25'), ('89', '91'), ('97', '197'), ('14', '10'), ('9r', '14'), ('25', '25r'), ('150r', '149'), ('35', '36'), ('58', '59'), ('9', '9r'), ('52', '53'), ('67', '160r'), ('110', '111'), ('27', '33'), ('95', '96'), ('26', '31'), ('13', '34'), ('69', '70'), ('150', '150r'), ('77', '78'), ('102', '103'), ('36', '38'), ('1', '2'), ('42', '44'), ('78', '79'), ('57', '60'), ('93', '95'), ('62', '63'), ('36', '37')]\n"
     ]
    }
   ],
   "source": [
    "source_branch = edge_list[0]\n",
    "branch_sensors = random.sample(edge_list,nbranch_sensors)\n",
    "if source_branch not in branch_sensors:\n",
    "    branch_sensors = random.sample(edge_list,nbranch_sensors)\n",
    "else:\n",
    "    print(branch_sensors)"
   ]
  },
  {
   "cell_type": "code",
   "execution_count": 34,
   "id": "1ae12991",
   "metadata": {},
   "outputs": [],
   "source": [
    "with open('branch_sensors.pkl', 'wb') as f:\n",
    "    pickle.dump(branch_sensors, f)"
   ]
  },
  {
   "cell_type": "code",
   "execution_count": 4,
   "id": "ef58f4e0",
   "metadata": {},
   "outputs": [],
   "source": [
    "input_file = 'LoadShape1.xlsx'\n",
    "sheet_name = 'LoadShape1'  # Change to the sheet you want to split\n",
    "df = pd.read_excel(input_file, sheet_name=sheet_name)\n",
    "\n",
    "points_per_day = 24  # Assuming 1-hour resolution (24 points = 24 hours)\n",
    "# Convert to flat list\n",
    "loadshape_values = df.iloc[:, 0].values.tolist()\n",
    "# Check total number of complete days available\n",
    "num_days = len(loadshape_values) // points_per_day\n",
    "# Slice the loadshape into daily\n",
    "LoadShapes = []\n",
    "for i in range(num_days):\n",
    "    start_idx = i * points_per_day\n",
    "    end_idx = (i + 1) * points_per_day\n",
    "    daily_shape = loadshape_values[start_idx:end_idx]\n",
    "    LoadShapes.append(daily_shape)"
   ]
  },
  {
   "cell_type": "code",
   "execution_count": 5,
   "id": "eb67eb21",
   "metadata": {},
   "outputs": [],
   "source": [
    "Scenarios  = []\n",
    "scid = 0\n",
    "### Scenario generation\n",
    "NSc = 1 # parameter indicating no.of scenarios for each"
   ]
  },
  {
   "cell_type": "markdown",
   "id": "4712325a",
   "metadata": {},
   "source": [
    "### Select random loadshape and a multiplier and Evaluate the circuit at the snapshot"
   ]
  },
  {
   "cell_type": "code",
   "execution_count": 249,
   "id": "c0178105",
   "metadata": {},
   "outputs": [],
   "source": [
    "Ckt_obj = CircuitSetup(DSSfile)"
   ]
  },
  {
   "cell_type": "code",
   "execution_count": 8,
   "id": "565d034f",
   "metadata": {},
   "outputs": [],
   "source": [
    "loadshape_day = random.choice(LoadShapes)"
   ]
  },
  {
   "cell_type": "code",
   "execution_count": 9,
   "id": "862f7e8b",
   "metadata": {},
   "outputs": [],
   "source": [
    "ldmult = random.choice(loadshape_day)"
   ]
  },
  {
   "cell_type": "code",
   "execution_count": 10,
   "id": "7d447331",
   "metadata": {},
   "outputs": [
    {
     "data": {
      "text/plain": [
       "0.589268250260193"
      ]
     },
     "execution_count": 10,
     "metadata": {},
     "output_type": "execute_result"
    }
   ],
   "source": [
    "ldmult "
   ]
  },
  {
   "cell_type": "code",
   "execution_count": 11,
   "id": "7c87bf2a",
   "metadata": {},
   "outputs": [],
   "source": [
    "Ckt_obj.dss.Solution.LoadMult(ldmult)\n",
    "Ckt_obj.dss.Solution.Solve()"
   ]
  },
  {
   "cell_type": "code",
   "execution_count": 237,
   "id": "c5607056",
   "metadata": {},
   "outputs": [],
   "source": [
    "MAX_RADIUS_FRAC = 1 / 3\n",
    "MAX_OUTAGE_PERC = 0.4"
   ]
  },
  {
   "cell_type": "code",
   "execution_count": 271,
   "id": "73fac7d8",
   "metadata": {},
   "outputs": [],
   "source": [
    "# Function to generate outage scenario\n",
    "def generate_outage_edges(G, max_rad_frac=MAX_RADIUS_FRAC, max_percfail=MAX_OUTAGE_PERC):\n",
    "    nd = random.choice(list(G.nodes()))\n",
    "    max_rad = nx.diameter(G)\n",
    "    rad = math.ceil(random.uniform(1, max_rad * max_rad_frac))  # ensure radius >= 1\n",
    "    Gsub = nx.ego_graph(G, nd, radius=rad, undirected=False)\n",
    "    sub_edges = list(Gsub.edges())\n",
    "    if not sub_edges:\n",
    "        return generate_outage_edges(G)  # Retry if no edges in subgraph\n",
    "    out_perc = random.uniform(0.1, max_percfail)\n",
    "    N_out = max(1, math.ceil(len(sub_edges) * out_perc))\n",
    "    out_edges = random.sample(sub_edges, k=N_out)\n",
    "    return out_edges"
   ]
  },
  {
   "cell_type": "code",
   "execution_count": 272,
   "id": "13f9a15c",
   "metadata": {},
   "outputs": [],
   "source": [
    "outage_edges = generate_outage_edges(G_original)\n",
    "outage_lines = []\n",
    "outage_types = []"
   ]
  },
  {
   "cell_type": "code",
   "execution_count": 273,
   "id": "51fbf351",
   "metadata": {},
   "outputs": [],
   "source": [
    "for from_node, to_node in outage_edges:\n",
    "    edge_data = G_original.get_edge_data(from_node, to_node)\n",
    "    outageelem = f\"{edge_data['Device']}.{edge_data['Label']}\"\n",
    "    if edge_data['Device'] == 'line':\n",
    "        outage_lines.append(outageelem)\n",
    "        Ckt_obj.dss.Circuit.SetActiveElement(outageelem)\n",
    "        active_phases = Ckt_obj.dss.CktElement.NodeOrder()[:len(Ckt_obj.dss.CktElement.NodeOrder())//2]\n",
    "        phase_indic = random.randint(1,len(active_phases))\n",
    "        if phase_indic == 3: #3 phase\n",
    "                Ckt_obj.dss.CktElement.Open(1,0)\n",
    "                outage_types.append('3 ph')                \n",
    "        if phase_indic == 1: #1 phase\n",
    "                phx = random.choice(active_phases)\n",
    "                Ckt_obj.dss.CktElement.Open(1,phx)\n",
    "                outage_types.append('1 ph')                \n",
    "        if phase_indic == 2: #2 phase\n",
    "                [phx,phy] = random.sample(active_phases, 2)\n",
    "                Ckt_obj.dss.CktElement.Open(1,phx)\n",
    "                Ckt_obj.dss.CktElement.Open(1,phy)\n",
    "                outage_types.append('2 ph')  \n",
    "        Ckt_obj.dss.Solution.Solve()"
   ]
  },
  {
   "cell_type": "code",
   "execution_count": 274,
   "id": "006c217f",
   "metadata": {},
   "outputs": [],
   "source": [
    "V_node_Sc = {}\n",
    "for bus in node_list:\n",
    "        V=Bus(Ckt_obj,bus).Vmag\n",
    "        V_node_Sc[bus] = V    "
   ]
  },
  {
   "cell_type": "code",
   "execution_count": 275,
   "id": "fdbb7e09",
   "metadata": {},
   "outputs": [],
   "source": [
    "flow_branch_Sc = {}  \n",
    "for (u,v) in edge_list:\n",
    "    branch_label = G_original[u][v]['Label']\n",
    "    branch_device = G_original[u][v]['Device']\n",
    "    branch_elem = f\"{branch_device}.{branch_label}\"\n",
    "    branch_pflow = Branch(Ckt_obj,branch_elem).flow\n",
    "    flow_branch_Sc[(u,v)] = np.sum(branch_pflow)"
   ]
  },
  {
   "cell_type": "code",
   "execution_count": 276,
   "id": "f1059967",
   "metadata": {},
   "outputs": [
    {
     "data": {
      "text/plain": [
       "[('844', '846'), ('832', '858'), ('832', '888'), ('836', '862')]"
      ]
     },
     "execution_count": 276,
     "metadata": {},
     "output_type": "execute_result"
    }
   ],
   "source": [
    "outage_edges"
   ]
  },
  {
   "cell_type": "code",
   "execution_count": 277,
   "id": "f186feb5",
   "metadata": {},
   "outputs": [
    {
     "data": {
      "text/plain": [
       "['line.l22', 'line.l16', 'line.l20']"
      ]
     },
     "execution_count": 277,
     "metadata": {},
     "output_type": "execute_result"
    }
   ],
   "source": [
    "outage_lines"
   ]
  },
  {
   "cell_type": "code",
   "execution_count": 279,
   "id": "4a3a76be",
   "metadata": {},
   "outputs": [
    {
     "data": {
      "text/plain": [
       "['2 ph', '2 ph', '2 ph']"
      ]
     },
     "execution_count": 279,
     "metadata": {},
     "output_type": "execute_result"
    }
   ],
   "source": [
    "outage_types"
   ]
  },
  {
   "cell_type": "code",
   "execution_count": 280,
   "id": "988419f8",
   "metadata": {},
   "outputs": [
    {
     "data": {
      "text/plain": [
       "{'sourcebus': array([1.05000022, 1.04999967, 1.05000004]),\n",
       " '800': array([1.05000051, 1.04999981, 1.04999965]),\n",
       " '802': array([1.05004488, 1.04982231, 1.04998567]),\n",
       " '806': array([1.05006655, 1.04974932, 0.0724132 ]),\n",
       " '808': array([1.0504158 , 1.04912773, 0.07247626]),\n",
       " '810': array([0.        , 1.04897943, 0.        ]),\n",
       " '812': array([0.02652561, 0.00714505, 0.07249085]),\n",
       " '814': array([0.02653861, 0.00714329, 0.07248098]),\n",
       " '814r': array([0.02919243, 0.00785764, 0.07972919]),\n",
       " '850': array([0.02919244, 0.00785764, 0.07972918]),\n",
       " '816': array([0.02919255, 0.00785759, 0.07972886]),\n",
       " '818': array([0., 0., 0.]),\n",
       " '824': array([0.02919588, 0.00785589, 0.07971737]),\n",
       " '820': array([0., 0., 0.]),\n",
       " '822': array([0., 0., 0.]),\n",
       " '826': array([0.        , 0.00785435, 0.        ]),\n",
       " '828': array([0.02919616, 0.00785644, 0.07971674]),\n",
       " '830': array([0.02920703, 0.00787152, 0.07970672]),\n",
       " '854': array([0.02920715, 0.00787162, 0.07970706]),\n",
       " '832': array([0.03213093, 0.01104375, 0.00676045]),\n",
       " '858': array([2.38193689e-69, 1.48362622e-69, 1.67038906e-69]),\n",
       " '834': array([2.38265711e-69, 1.48384286e-69, 1.67082316e-69]),\n",
       " '860': array([2.38163954e-69, 1.48428021e-69, 1.66937539e-69]),\n",
       " '842': array([2.38264980e-69, 1.48384391e-69, 1.67082516e-69]),\n",
       " '836': array([2.38116854e-69, 1.48432127e-69, 1.66883811e-69]),\n",
       " '840': array([2.38112207e-69, 1.48430231e-69, 1.66880394e-69]),\n",
       " '862': array([0.00000000e+00, 0.00000000e+00, 1.66883812e-69]),\n",
       " '844': array([0., 0., 0.]),\n",
       " '846': array([0., 0., 0.]),\n",
       " '848': array([0., 0., 0.]),\n",
       " '852r': array([0.03213093, 0.01104375, 0.00676045]),\n",
       " '888': array([0.03213135, 0.0110438 , 0.00676054]),\n",
       " '856': array([0.        , 0.00787091, 0.        ]),\n",
       " '852': array([0.02920994, 0.01003977, 0.00614586]),\n",
       " '864': array([2.38192507e-69, 0.00000000e+00, 0.00000000e+00]),\n",
       " '838': array([0., 0., 0.]),\n",
       " '890': array([0., 0., 0.])}"
      ]
     },
     "execution_count": 280,
     "metadata": {},
     "output_type": "execute_result"
    }
   ],
   "source": [
    "V_node_Sc"
   ]
  },
  {
   "cell_type": "code",
   "execution_count": 281,
   "id": "551cda90",
   "metadata": {},
   "outputs": [
    {
     "data": {
      "text/plain": [
       "{('sourcebus', '800'): 59.46431660363159,\n",
       " ('800', '802'): 59.464313090578365,\n",
       " ('802', '806'): 31.95611075804539,\n",
       " ('806', '808'): 16.887732875726066,\n",
       " ('808', '810'): 8.393004099452511,\n",
       " ('808', '812'): 0.08202166283638464,\n",
       " ('812', '814'): 0.08017256486087074,\n",
       " ('814', '814r'): 0.08097279246677098,\n",
       " ('814r', '850'): 0.08010300136690332,\n",
       " ('850', '816'): 0.08010297733043185,\n",
       " ('816', '818'): 2.508795615280279e-10,\n",
       " ('816', '824'): 0.08005078071481593,\n",
       " ('818', '820'): 0.0,\n",
       " ('824', '826'): 0.00123405777198968,\n",
       " ('824', '828'): 0.06479801511293615,\n",
       " ('820', '822'): 0.0,\n",
       " ('828', '830'): 0.04910343038618423,\n",
       " ('830', '854'): 0.0015436764580635275,\n",
       " ('854', '856'): 0.00012392085041104626,\n",
       " ('854', '852'): 0.0012955717501521343,\n",
       " ('832', '858'): 2.084547026251569e-09,\n",
       " ('832', '852r'): 0.0012908241271977702,\n",
       " ('832', '888'): 7.77638495523637e-10,\n",
       " ('858', '864'): 5.673610907301205e-138,\n",
       " ('858', '834'): -2.4905474562034577e-136,\n",
       " ('834', '860'): 9.940067879733732e-136,\n",
       " ('834', '842'): 2.5546740982064814e-137,\n",
       " ('860', '836'): 3.2539088082138638e-136,\n",
       " ('842', '844'): 2.827464323196775e-144,\n",
       " ('836', '840'): 1.577527524888978e-136,\n",
       " ('836', '862'): 2.7877967598217435e-144,\n",
       " ('862', '838'): 0.0,\n",
       " ('844', '846'): 0.0,\n",
       " ('846', '848'): 0.0,\n",
       " ('852r', '852'): -7.809509290619028e-12,\n",
       " ('888', '890'): 3.8533142122172516e-10}"
      ]
     },
     "execution_count": 281,
     "metadata": {},
     "output_type": "execute_result"
    }
   ],
   "source": [
    "flow_branch_Sc"
   ]
  },
  {
   "cell_type": "code",
   "execution_count": 285,
   "id": "2baf7445",
   "metadata": {},
   "outputs": [],
   "source": [
    "nbus_sensors = math.ceil(len(node_list)*0.4)\n",
    "nbranch_sensors = math.ceil(len(edge_list)*0.4)"
   ]
  },
  {
   "cell_type": "code",
   "execution_count": 289,
   "id": "cbf8046a",
   "metadata": {},
   "outputs": [],
   "source": [
    "bus_sensors = random.sample(node_list,nbus_sensors)"
   ]
  },
  {
   "cell_type": "code",
   "execution_count": 290,
   "id": "763f5f6f",
   "metadata": {},
   "outputs": [
    {
     "data": {
      "text/plain": [
       "['810',\n",
       " '808',\n",
       " '816',\n",
       " '848',\n",
       " '826',\n",
       " '854',\n",
       " '832',\n",
       " '850',\n",
       " '806',\n",
       " 'sourcebus',\n",
       " '840',\n",
       " '846',\n",
       " '890',\n",
       " '862',\n",
       " '860']"
      ]
     },
     "execution_count": 290,
     "metadata": {},
     "output_type": "execute_result"
    }
   ],
   "source": [
    "bus_sensors"
   ]
  },
  {
   "cell_type": "code",
   "execution_count": 291,
   "id": "03ddee8e",
   "metadata": {},
   "outputs": [],
   "source": [
    "branch_sensors = random.sample(edge_list,nbranch_sensors)"
   ]
  },
  {
   "cell_type": "code",
   "execution_count": 292,
   "id": "af321bf4",
   "metadata": {},
   "outputs": [
    {
     "data": {
      "text/plain": [
       "[('860', '836'),\n",
       " ('814', '814r'),\n",
       " ('812', '814'),\n",
       " ('888', '890'),\n",
       " ('814r', '850'),\n",
       " ('828', '830'),\n",
       " ('862', '838'),\n",
       " ('830', '854'),\n",
       " ('808', '812'),\n",
       " ('820', '822'),\n",
       " ('834', '842'),\n",
       " ('sourcebus', '800'),\n",
       " ('842', '844'),\n",
       " ('824', '828'),\n",
       " ('844', '846')]"
      ]
     },
     "execution_count": 292,
     "metadata": {},
     "output_type": "execute_result"
    }
   ],
   "source": [
    "branch_sensors"
   ]
  },
  {
   "cell_type": "code",
   "execution_count": 293,
   "id": "acec08f8",
   "metadata": {},
   "outputs": [],
   "source": [
    "with open('bus_sensors.pkl', 'wb') as f:\n",
    "    pickle.dump(bus_sensors, f)"
   ]
  },
  {
   "cell_type": "code",
   "execution_count": 294,
   "id": "4fde26ca",
   "metadata": {},
   "outputs": [],
   "source": [
    "with open('branch_sensors.pkl', 'wb') as f:\n",
    "    pickle.dump(branch_sensors, f)"
   ]
  },
  {
   "cell_type": "code",
   "execution_count": null,
   "id": "d6f1f168",
   "metadata": {},
   "outputs": [],
   "source": []
  }
 ],
 "metadata": {
  "kernelspec": {
   "display_name": "Python 3 (ipykernel)",
   "language": "python",
   "name": "python3"
  },
  "language_info": {
   "codemirror_mode": {
    "name": "ipython",
    "version": 3
   },
   "file_extension": ".py",
   "mimetype": "text/x-python",
   "name": "python",
   "nbconvert_exporter": "python",
   "pygments_lexer": "ipython3",
   "version": "3.11.4"
  }
 },
 "nbformat": 4,
 "nbformat_minor": 5
}
