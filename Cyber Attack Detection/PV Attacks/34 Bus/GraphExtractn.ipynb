{
 "cells": [
  {
   "cell_type": "code",
   "execution_count": 1,
   "id": "0a79f9b3",
   "metadata": {},
   "outputs": [],
   "source": [
    "import os\n",
    "from DSSCircuit_Interface import * \n",
    "import networkx as nx"
   ]
  },
  {
   "cell_type": "code",
   "execution_count": 2,
   "id": "e808a977",
   "metadata": {},
   "outputs": [],
   "source": [
    "FolderName=os.path.dirname(os.path.realpath(\"__file__\"))\n",
    "d_obj= DSS(r\"\"+ FolderName+ \"\\ieee34Mod2.dss\")  #creating a DSS object instance"
   ]
  },
  {
   "cell_type": "code",
   "execution_count": 3,
   "id": "3affd425",
   "metadata": {},
   "outputs": [],
   "source": [
    "d_obj.compile_ckt_dss() #compiling the circuit\n",
    "# d_obj.solve_snapshot_dss(1.0) #solving snapshot power flow\n",
    "d_obj.dssSolution.Solve()"
   ]
  },
  {
   "cell_type": "code",
   "execution_count": 4,
   "id": "20fa2660",
   "metadata": {},
   "outputs": [],
   "source": [
    "edges_dictlist=[] #dictionary for edge information\n",
    "G_original=nx.Graph() #undirected graph\n",
    "for e in d_obj.get_AllPDElements():\n",
    "    if ((e.split('.')[0]=='Line') or (e.split('.')[0]=='Transformer')): #only if its a line or transformer used in graph(capacitors avoided)\n",
    "        branch_obj=Branch(d_obj,e) #creating  a branch object instance with full name\n",
    "        sr_node=branch_obj.bus_fr.split('.')[0] #extracting source bus of branch\n",
    "        tar_node=branch_obj.bus_to.split('.')[0] #extracting target bus of branch\n",
    "        name=e.split('.')[1] #getting the name of the element(label or id)\n",
    "        el_type=e.split('.')[0] #getting the type of the element (line or transformer)\n",
    "        numphases=branch_obj.nphases #extracting number of phases of branch\n",
    "        Inorm=branch_obj.Cap #extracting the base network (normal operation at max load) current flow in branch\n",
    "        Imax=branch_obj.MaxCap #extracting the maximum permissible current flow in branch\n",
    "        Iresid=Imax-Inorm #residual current flow in branch\n",
    "        if el_type== 'Line':\n",
    "            R,X=d_obj.get_Line_RX(name)\n",
    "        else:\n",
    "            R,X=d_obj.get_Transformer_RX(name)\n",
    "        edges_dictlist.append({\"source\":sr_node, \"target\":tar_node, \"label\":name, \"device\":el_type, \"resistance\":R, \"reactance\":X, \"phases\":numphases,\"maxcap\":Imax,\"cap\":Inorm,\"residue\":Iresid})\n",
    "        G_original.add_edge(sr_node, tar_node, label=name, device=el_type, resistance=R, reactance=X, phases=numphases,maxcap=Imax,cap=Inorm,residue=Iresid)"
   ]
  },
  {
   "cell_type": "code",
   "execution_count": 5,
   "id": "0ae3ec76",
   "metadata": {},
   "outputs": [],
   "source": [
    "buses=list(d_obj.get_AllBuses())\n",
    "loads=d_obj.get_AllLoads()\n",
    "for b in buses:\n",
    "    P_sum=0\n",
    "    Q_sum=0\n",
    "    for j in range(len(loads)):\n",
    "        if loads[j][\"Bus\"]==b:\n",
    "            P_sum=P_sum+loads[j].get(\"Pload\")\n",
    "            Q_sum=Q_sum+loads[j].get(\"Qload\")\n",
    "    G_original.nodes[b][\"Device\"]=\"Bus\"\n",
    "    G_original.nodes[b][\"TotConnected_ActiveLoad\"]=P_sum\n",
    "    G_original.nodes[b][\"TotConnected_ReactiveLoad\"]=Q_sum"
   ]
  },
  {
   "cell_type": "code",
   "execution_count": 6,
   "id": "de79effa",
   "metadata": {
    "scrolled": true
   },
   "outputs": [
    {
     "data": {
      "text/plain": [
       "EdgeDataView([('sourcebus', '800', {'label': 'subxf', 'device': 'Transformer', 'resistance': 0.012400199999999998, 'reactance': 0.024800399999999997, 'phases': 3, 'maxcap': 313.7773202117531, 'cap': 1.3692839446427927, 'residue': 312.4080362671103}), ('800', '802', {'label': 'l1', 'device': 'Line', 'resistance': 0.5473215904400001, 'reactance': 0.40716439247999997, 'phases': 3, 'maxcap': 600.0, 'cap': 4.498971594575483, 'residue': 595.5010284054246}), ('802', 'mid806', {'label': 'l2a', 'device': 'Line', 'resistance': 0.1835012309033333, 'reactance': 0.13651054244, 'phases': 3, 'maxcap': 600.0, 'cap': 4.5233406262659805, 'residue': 595.476659373734}), ('mid806', '806', {'label': 'l2b', 'device': 'Line', 'resistance': 0.1835012309033333, 'reactance': 0.13651054244, 'phases': 3, 'maxcap': 600.0, 'cap': 4.884660489191657, 'residue': 595.1153395108083}), ('806', '808', {'label': 'l3', 'device': 'Line', 'resistance': 6.837277077473332, 'reactance': 5.086398592879998, 'phases': 3, 'maxcap': 600.0, 'cap': 4.892520541713051, 'residue': 595.107479458287}), ('808', 'mid810', {'label': 'l4a', 'device': 'Line', 'resistance': 0.512887872, 'reactance': 0.2721543966666667, 'phases': 1, 'maxcap': 600.0, 'cap': 1.2153450921473696, 'residue': 598.7846549078527}), ('808', '812', {'label': 'l5', 'device': 'Line', 'resistance': 7.955255675000001, 'reactance': 5.918087100000001, 'phases': 3, 'maxcap': 600.0, 'cap': 5.298563184745833, 'residue': 594.7014368152542}), ('mid810', '810', {'label': 'l4b', 'device': 'Line', 'resistance': 0.512887872, 'reactance': 0.2721543966666667, 'phases': 1, 'maxcap': 600.0, 'cap': 0.03507391545703028, 'residue': 599.964926084543}), ('812', '814', {'label': 'l6', 'device': 'Line', 'resistance': 6.306926699139999, 'reactance': 4.691859452880001, 'phases': 3, 'maxcap': 600.0, 'cap': 5.644209221796998, 'residue': 594.355790778203}), ('814', '814r', {'label': 'reg1c', 'device': 'Transformer', 'resistance': 0.0103334688, 'reactance': 1.0333468799999999, 'phases': 1, 'maxcap': 208.68113522537564, 'cap': 4.2210682863450675, 'residue': 204.46006693903058}), ('814r', '850', {'label': 'l7', 'device': 'Line', 'resistance': 0.00320088384, 'reactance': 0.0015930555533333335, 'phases': 3, 'maxcap': 600.0, 'cap': 6.066550279102362, 'residue': 593.9334497208977}), ('850', '816', {'label': 'l24', 'device': 'Line', 'resistance': 0.09922739904, 'reactance': 0.04938472215333332, 'phases': 3, 'maxcap': 600.0, 'cap': 6.06665029730184, 'residue': 593.9333497026981}), ('816', '818', {'label': 'l8', 'device': 'Line', 'resistance': 0.30221855999999997, 'reactance': 0.16036665, 'phases': 1, 'maxcap': 600.0, 'cap': 12.97963875027889, 'residue': 587.0203612497211}), ('816', 'mid824', {'label': 'l9a', 'device': 'Line', 'resistance': 1.6340512003200003, 'reactance': 0.8132548599766668, 'phases': 3, 'maxcap': 600.0, 'cap': 5.960642161931745, 'residue': 594.0393578380682}), ('818', 'mid820', {'label': 'l10a', 'device': 'Line', 'resistance': 4.2549192, 'reactance': 2.257793625, 'phases': 1, 'maxcap': 600.0, 'cap': 12.987957422822674, 'residue': 587.0120425771773}), ('mid824', '824', {'label': 'l9b', 'device': 'Line', 'resistance': 1.6340512003200003, 'reactance': 0.8132548599766668, 'phases': 3, 'maxcap': 600.0, 'cap': 6.0917354496329414, 'residue': 593.9082645503671}), ('824', 'mid826', {'label': 'l12a', 'device': 'Line', 'resistance': 0.26775504, 'reactance': 0.142079225, 'phases': 1, 'maxcap': 600.0, 'cap': 3.0950938012951545, 'residue': 596.9049061987048}), ('824', 'mid828', {'label': 'l13a', 'device': 'Line', 'resistance': 0.13443712128000002, 'reactance': 0.06690833324, 'phases': 3, 'maxcap': 600.0, 'cap': 6.624780471894855, 'residue': 593.3752195281052}), ('mid820', '820', {'label': 'l10b', 'device': 'Line', 'resistance': 4.2549192, 'reactance': 2.257793625, 'phases': 1, 'maxcap': 600.0, 'cap': 10.44128381406459, 'residue': 589.5587161859354}), ('820', 'mid822', {'label': 'l11a', 'device': 'Line', 'resistance': 1.21417632, 'reactance': 0.64428005, 'phases': 1, 'maxcap': 600.0, 'cap': 10.562985875254974, 'residue': 589.437014124745}), ('mid822', '822', {'label': 'l11b', 'device': 'Line', 'resistance': 1.21417632, 'reactance': 0.64428005, 'phases': 1, 'maxcap': 600.0, 'cap': 0.07860964293567752, 'residue': 599.9213903570643}), ('mid826', '826', {'label': 'l12b', 'device': 'Line', 'resistance': 0.26775504, 'reactance': 0.142079225, 'phases': 1, 'maxcap': 600.0, 'cap': 0.017782494746280204, 'residue': 599.9822175052537}), ('mid828', '828', {'label': 'l13b', 'device': 'Line', 'resistance': 0.13443712128000002, 'reactance': 0.06690833324, 'phases': 3, 'maxcap': 600.0, 'cap': 6.7188903596732965, 'residue': 593.2811096403267}), ('828', 'mid830', {'label': 'l14a', 'device': 'Line', 'resistance': 3.2713032844800005, 'reactance': 1.6281027755066668, 'phases': 3, 'maxcap': 600.0, 'cap': 6.720629589098391, 'residue': 593.2793704109016}), ('mid830', '830', {'label': 'l14b', 'device': 'Line', 'resistance': 3.2713032844800005, 'reactance': 1.6281027755066668, 'phases': 3, 'maxcap': 600.0, 'cap': 6.881023168305177, 'residue': 593.1189768316948}), ('830', '854', {'label': 'l15', 'device': 'Line', 'resistance': 0.16644595968, 'reactance': 0.08283888877333334, 'phases': 3, 'maxcap': 600.0, 'cap': 7.813423320136667, 'residue': 592.1865766798634}), ('854', 'mid856', {'label': 'l26a', 'device': 'Line', 'resistance': 2.06162544, 'reactance': 1.0939631416666666, 'phases': 1, 'maxcap': 600.0, 'cap': 0.30532872936543776, 'residue': 599.6946712706346}), ('854', '852', {'label': 'l27', 'device': 'Line', 'resistance': 11.788855182719999, 'reactance': 5.867223602926667, 'phases': 3, 'maxcap': 600.0, 'cap': 7.915907663488805, 'residue': 592.0840923365112}), ('832', 'mid858', {'label': 'l16a', 'device': 'Line', 'resistance': 0.7842165408, 'reactance': 0.39029861056666665, 'phases': 3, 'maxcap': 600.0, 'cap': 18.213872337574482, 'residue': 581.7861276624255}), ('832', '852r', {'label': 'l25', 'device': 'Line', 'resistance': 0.00320088384, 'reactance': 0.0015930555533333335, 'phases': 3, 'maxcap': 600.0, 'cap': 8.047456859558215, 'residue': 591.9525431404418}), ('832', '888', {'label': 'xfm1', 'device': 'Transformer', 'resistance': 32.88064, 'reactance': 141.21369600000003, 'phases': 3, 'maxcap': 17.390068349085112, 'cap': 11.663279869028427, 'residue': 5.726788480056685}), ('mid858', '858', {'label': 'l16b', 'device': 'Line', 'resistance': 0.7842165408, 'reactance': 0.39029861056666665, 'phases': 3, 'maxcap': 600.0, 'cap': 18.58558607682896, 'residue': 581.4144139231711}), ('858', 'mid834', {'label': 'l29a', 'device': 'Line', 'resistance': 0.93305763936, 'reactance': 0.4643756937966666, 'phases': 3, 'maxcap': 600.0, 'cap': 18.09917845041539, 'residue': 581.9008215495846}), ('858', 'mid864', {'label': 'l28a', 'device': 'Line', 'resistance': 0.14315616, 'reactance': 0.07596315000000001, 'phases': 1, 'maxcap': 600.0, 'cap': 1.4501746590677103, 'residue': 598.5498253409323}), ('mid834', '834', {'label': 'l29b', 'device': 'Line', 'resistance': 0.93305763936, 'reactance': 0.4643756937966666, 'phases': 3, 'maxcap': 600.0, 'cap': 18.867216192978294, 'residue': 581.1327838070217}), ('834', '842', {'label': 'l18', 'device': 'Line', 'resistance': 0.08962474751999999, 'reactance': 0.04460555549333334, 'phases': 3, 'maxcap': 600.0, 'cap': 25.233030229495427, 'residue': 574.7669697705046}), ('834', 'mid860', {'label': 'l17a', 'device': 'Line', 'resistance': 0.32328926784, 'reactance': 0.16089861088666668, 'phases': 3, 'maxcap': 600.0, 'cap': 7.411307804962515, 'residue': 592.5886921950375}), ('842', 'mid844', {'label': 'l21a', 'device': 'Line', 'resistance': 0.2160596592, 'reactance': 0.10753124985000002, 'phases': 3, 'maxcap': 600.0, 'cap': 25.231432863551337, 'residue': 574.7685671364486}), ('836', 'mid840', {'label': 'l19a', 'device': 'Line', 'resistance': 0.13763800512, 'reactance': 0.06850138879333334, 'phases': 3, 'maxcap': 600.0, 'cap': 2.265804816476231, 'residue': 597.7341951835238}), ('836', 'mid836', {'label': 'l30b', 'device': 'Line', 'resistance': 0.42891843455999995, 'reactance': 0.21346944414666666, 'phases': 3, 'maxcap': 600.0, 'cap': 2.3033322884068226, 'residue': 597.6966677115931}), ('836', '862', {'label': 'l20', 'device': 'Line', 'resistance': 0.08962474751999999, 'reactance': 0.04460555549333334, 'phases': 3, 'maxcap': 600.0, 'cap': 0.6962706202698192, 'residue': 599.3037293797302}), ('mid840', '840', {'label': 'l19b', 'device': 'Line', 'resistance': 0.13763800512, 'reactance': 0.06850138879333334, 'phases': 3, 'maxcap': 600.0, 'cap': 2.989437631339078, 'residue': 597.0105623686609}), ('mid844', '844', {'label': 'l21b', 'device': 'Line', 'resistance': 0.2160596592, 'reactance': 0.10753124985000002, 'phases': 3, 'maxcap': 600.0, 'cap': 25.454892721586777, 'residue': 574.5451072784132}), ('844', 'mid846', {'label': 'l22a', 'device': 'Line', 'resistance': 0.58256085888, 'reactance': 0.2899361107066667, 'phases': 3, 'maxcap': 600.0, 'cap': 34.8662807639047, 'residue': 565.1337192360953}), ('mid846', '846', {'label': 'l22b', 'device': 'Line', 'resistance': 0.58256085888, 'reactance': 0.2899361107066667, 'phases': 3, 'maxcap': 600.0, 'cap': 35.96064623945197, 'residue': 564.039353760548}), ('846', 'mid848', {'label': 'l23a', 'device': 'Line', 'resistance': 0.08482342176000002, 'reactance': 0.04221597216333334, 'phases': 3, 'maxcap': 600.0, 'cap': 9.773728431171845, 'residue': 590.2262715688281}), ('mid848', '848', {'label': 'l23b', 'device': 'Line', 'resistance': 0.08482342176000002, 'reactance': 0.04221597216333334, 'phases': 3, 'maxcap': 600.0, 'cap': 9.895839852706075, 'residue': 590.1041601472939}), ('mid856', '856', {'label': 'l26b', 'device': 'Line', 'resistance': 2.06162544, 'reactance': 1.0939631416666666, 'phases': 1, 'maxcap': 600.0, 'cap': 0.13707352519653246, 'residue': 599.8629264748034}), ('852', '852r', {'label': 'reg2c', 'device': 'Transformer', 'resistance': 0.0103334688, 'reactance': 1.0333468799999999, 'phases': 1, 'maxcap': 208.68113522537564, 'cap': 6.092281119054499, 'residue': 202.58885410632115}), ('888', '890', {'label': 'l32', 'device': 'Line', 'resistance': 2.24019999808, 'reactance': 1.6665333273599998, 'phases': 3, 'maxcap': 600.0, 'cap': 69.81142562454731, 'residue': 530.1885743754527}), ('mid864', '864', {'label': 'l28b', 'device': 'Line', 'resistance': 0.14315616, 'reactance': 0.07596315000000001, 'phases': 1, 'maxcap': 600.0, 'cap': 1.5835518479811108, 'residue': 598.4164481520189}), ('mid860', '860', {'label': 'l17b', 'device': 'Line', 'resistance': 0.32328926784, 'reactance': 0.16089861088666668, 'phases': 3, 'maxcap': 600.0, 'cap': 3.6827323443971625, 'residue': 596.3172676556028}), ('860', 'mid836', {'label': 'l30a', 'device': 'Line', 'resistance': 0.42891843455999995, 'reactance': 0.21346944414666666, 'phases': 3, 'maxcap': 600.0, 'cap': 2.282877200002679, 'residue': 597.7171227999974}), ('862', 'mid838', {'label': 'l31a', 'device': 'Line', 'resistance': 0.29480598, 'reactance': 0.21802527000000002, 'phases': 1, 'maxcap': 600.0, 'cap': 2.080932809564889, 'residue': 597.9190671904352}), ('mid838', '838', {'label': 'l31b', 'device': 'Line', 'resistance': 0.29480598, 'reactance': 0.21802527000000002, 'phases': 1, 'maxcap': 600.0, 'cap': 0.029838700585642586, 'residue': 599.9701612994144})])"
      ]
     },
     "execution_count": 6,
     "metadata": {},
     "output_type": "execute_result"
    }
   ],
   "source": [
    "G_original.edges(data=True)"
   ]
  },
  {
   "cell_type": "code",
   "execution_count": 7,
   "id": "5bd9da16",
   "metadata": {
    "scrolled": true
   },
   "outputs": [
    {
     "data": {
      "text/plain": [
       "NodeDataView({'sourcebus': {'Device': 'Bus', 'TotConnected_ActiveLoad': 0, 'TotConnected_ReactiveLoad': 0}, '800': {'Device': 'Bus', 'TotConnected_ActiveLoad': 0, 'TotConnected_ReactiveLoad': 0}, '802': {'Device': 'Bus', 'TotConnected_ActiveLoad': 0, 'TotConnected_ReactiveLoad': 0}, 'mid806': {'Device': 'Bus', 'TotConnected_ActiveLoad': 55.0, 'TotConnected_ReactiveLoad': 29.0}, '806': {'Device': 'Bus', 'TotConnected_ActiveLoad': 0, 'TotConnected_ReactiveLoad': 0}, '808': {'Device': 'Bus', 'TotConnected_ActiveLoad': 0, 'TotConnected_ReactiveLoad': 0}, 'mid810': {'Device': 'Bus', 'TotConnected_ActiveLoad': 16.0, 'TotConnected_ReactiveLoad': 8.0}, '810': {'Device': 'Bus', 'TotConnected_ActiveLoad': 0, 'TotConnected_ReactiveLoad': 0}, '812': {'Device': 'Bus', 'TotConnected_ActiveLoad': 0, 'TotConnected_ReactiveLoad': 0}, '814': {'Device': 'Bus', 'TotConnected_ActiveLoad': 0, 'TotConnected_ReactiveLoad': 0}, '814r': {'Device': 'Bus', 'TotConnected_ActiveLoad': 0, 'TotConnected_ReactiveLoad': 0}, '850': {'Device': 'Bus', 'TotConnected_ActiveLoad': 0, 'TotConnected_ReactiveLoad': 0}, '816': {'Device': 'Bus', 'TotConnected_ActiveLoad': 0, 'TotConnected_ReactiveLoad': 0}, '818': {'Device': 'Bus', 'TotConnected_ActiveLoad': 0, 'TotConnected_ReactiveLoad': 0}, 'mid824': {'Device': 'Bus', 'TotConnected_ActiveLoad': 5.0, 'TotConnected_ReactiveLoad': 2.0}, '824': {'Device': 'Bus', 'TotConnected_ActiveLoad': 0, 'TotConnected_ReactiveLoad': 0}, 'mid820': {'Device': 'Bus', 'TotConnected_ActiveLoad': 34.0, 'TotConnected_ReactiveLoad': 17.0}, '820': {'Device': 'Bus', 'TotConnected_ActiveLoad': 0, 'TotConnected_ReactiveLoad': 0}, 'mid822': {'Device': 'Bus', 'TotConnected_ActiveLoad': 135.0, 'TotConnected_ReactiveLoad': 70.0}, '822': {'Device': 'Bus', 'TotConnected_ActiveLoad': 0, 'TotConnected_ReactiveLoad': 0}, 'mid826': {'Device': 'Bus', 'TotConnected_ActiveLoad': 40.0, 'TotConnected_ReactiveLoad': 20.0}, '826': {'Device': 'Bus', 'TotConnected_ActiveLoad': 0, 'TotConnected_ReactiveLoad': 0}, 'mid828': {'Device': 'Bus', 'TotConnected_ActiveLoad': 4.0, 'TotConnected_ReactiveLoad': 2.0}, '828': {'Device': 'Bus', 'TotConnected_ActiveLoad': 0, 'TotConnected_ReactiveLoad': 0}, 'mid830': {'Device': 'Bus', 'TotConnected_ActiveLoad': 7.0, 'TotConnected_ReactiveLoad': 3.0}, '830': {'Device': 'Bus', 'TotConnected_ActiveLoad': 45.0, 'TotConnected_ReactiveLoad': 20.0}, '854': {'Device': 'Bus', 'TotConnected_ActiveLoad': 0, 'TotConnected_ReactiveLoad': 0}, '832': {'Device': 'Bus', 'TotConnected_ActiveLoad': 0, 'TotConnected_ReactiveLoad': 0}, 'mid858': {'Device': 'Bus', 'TotConnected_ActiveLoad': 15.0, 'TotConnected_ReactiveLoad': 7.0}, '858': {'Device': 'Bus', 'TotConnected_ActiveLoad': 0, 'TotConnected_ReactiveLoad': 0}, 'mid834': {'Device': 'Bus', 'TotConnected_ActiveLoad': 32.0, 'TotConnected_ReactiveLoad': 17.0}, '834': {'Device': 'Bus', 'TotConnected_ActiveLoad': 0, 'TotConnected_ReactiveLoad': 0}, '842': {'Device': 'Bus', 'TotConnected_ActiveLoad': 0, 'TotConnected_ReactiveLoad': 0}, '836': {'Device': 'Bus', 'TotConnected_ActiveLoad': 0, 'TotConnected_ReactiveLoad': 0}, 'mid840': {'Device': 'Bus', 'TotConnected_ActiveLoad': 40.0, 'TotConnected_ReactiveLoad': 20.0}, '840': {'Device': 'Bus', 'TotConnected_ActiveLoad': 27.0, 'TotConnected_ReactiveLoad': 21.0}, 'mid844': {'Device': 'Bus', 'TotConnected_ActiveLoad': 9.0, 'TotConnected_ReactiveLoad': 5.0}, '844': {'Device': 'Bus', 'TotConnected_ActiveLoad': 405.0, 'TotConnected_ReactiveLoad': 315.0}, 'mid846': {'Device': 'Bus', 'TotConnected_ActiveLoad': 45.0, 'TotConnected_ReactiveLoad': 23.0}, '846': {'Device': 'Bus', 'TotConnected_ActiveLoad': 0, 'TotConnected_ReactiveLoad': 0}, 'mid848': {'Device': 'Bus', 'TotConnected_ActiveLoad': 23.0, 'TotConnected_ReactiveLoad': 11.0}, '848': {'Device': 'Bus', 'TotConnected_ActiveLoad': 60.0, 'TotConnected_ReactiveLoad': 48.0}, 'mid856': {'Device': 'Bus', 'TotConnected_ActiveLoad': 4.0, 'TotConnected_ReactiveLoad': 2.0}, '856': {'Device': 'Bus', 'TotConnected_ActiveLoad': 0, 'TotConnected_ReactiveLoad': 0}, '852': {'Device': 'Bus', 'TotConnected_ActiveLoad': 0, 'TotConnected_ReactiveLoad': 0}, '852r': {'Device': 'Bus', 'TotConnected_ActiveLoad': 0, 'TotConnected_ReactiveLoad': 0}, '888': {'Device': 'Bus', 'TotConnected_ActiveLoad': 0, 'TotConnected_ReactiveLoad': 0}, 'mid864': {'Device': 'Bus', 'TotConnected_ActiveLoad': 2.0, 'TotConnected_ReactiveLoad': 1.0}, '864': {'Device': 'Bus', 'TotConnected_ActiveLoad': 0, 'TotConnected_ReactiveLoad': 0}, 'mid860': {'Device': 'Bus', 'TotConnected_ActiveLoad': 146.0, 'TotConnected_ReactiveLoad': 73.0}, '860': {'Device': 'Bus', 'TotConnected_ActiveLoad': 60.0, 'TotConnected_ReactiveLoad': 48.0}, 'mid836': {'Device': 'Bus', 'TotConnected_ActiveLoad': 82.0, 'TotConnected_ReactiveLoad': 43.0}, '862': {'Device': 'Bus', 'TotConnected_ActiveLoad': 0, 'TotConnected_ReactiveLoad': 0}, 'mid838': {'Device': 'Bus', 'TotConnected_ActiveLoad': 28.0, 'TotConnected_ReactiveLoad': 14.0}, '838': {'Device': 'Bus', 'TotConnected_ActiveLoad': 0, 'TotConnected_ReactiveLoad': 0}, '890': {'Device': 'Bus', 'TotConnected_ActiveLoad': 450.0, 'TotConnected_ReactiveLoad': 225.0}})"
      ]
     },
     "execution_count": 7,
     "metadata": {},
     "output_type": "execute_result"
    }
   ],
   "source": [
    "G_original.nodes(data=True)"
   ]
  },
  {
   "cell_type": "code",
   "execution_count": 8,
   "id": "89d1f306",
   "metadata": {},
   "outputs": [
    {
     "data": {
      "text/plain": [
       "('sourcebus',\n",
       " '800',\n",
       " {'label': 'subxf',\n",
       "  'device': 'Transformer',\n",
       "  'resistance': 0.012400199999999998,\n",
       "  'reactance': 0.24800399999999997,\n",
       "  'phases': 3,\n",
       "  'maxcap': 313.7773202117531,\n",
       "  'cap': 16.444463193137157,\n",
       "  'residue': 297.3328570186159})"
      ]
     },
     "execution_count": 8,
     "metadata": {},
     "output_type": "execute_result"
    }
   ],
   "source": [
    "for e in G_original.edges(data=True):\n",
    "    break\n",
    "e"
   ]
  },
  {
   "cell_type": "code",
   "execution_count": 8,
   "id": "68996415",
   "metadata": {},
   "outputs": [
    {
     "data": {
      "text/plain": [
       "('sourcebus',\n",
       " '800',\n",
       " {'label': 'subxf',\n",
       "  'device': 'Transformer',\n",
       "  'resistance': 0.012400199999999998,\n",
       "  'reactance': 0.024800399999999997,\n",
       "  'phases': 3,\n",
       "  'maxcap': 313.7773202117531,\n",
       "  'cap': 16.50637143694331,\n",
       "  'residue': 297.27094877480977})"
      ]
     },
     "execution_count": 8,
     "metadata": {},
     "output_type": "execute_result"
    }
   ],
   "source": [
    "for e in G_original.edges(data=True):\n",
    "    break\n",
    "e"
   ]
  },
  {
   "cell_type": "code",
   "execution_count": 9,
   "id": "74a690c8",
   "metadata": {},
   "outputs": [
    {
     "data": {
      "text/plain": [
       "('890',\n",
       " {'Device': 'Bus',\n",
       "  'TotConnected_ActiveLoad': 450.0,\n",
       "  'TotConnected_ReactiveLoad': 225.0})"
      ]
     },
     "execution_count": 9,
     "metadata": {},
     "output_type": "execute_result"
    }
   ],
   "source": [
    "for n in G_original.nodes(data=True):\n",
    "    n\n",
    "n"
   ]
  },
  {
   "cell_type": "code",
   "execution_count": 10,
   "id": "3d5cddf4",
   "metadata": {},
   "outputs": [
    {
     "data": {
      "text/plain": [
       "('sourcebus',\n",
       " {'Device': 'Bus',\n",
       "  'TotConnected_ActiveLoad': 0,\n",
       "  'TotConnected_ReactiveLoad': 0})"
      ]
     },
     "execution_count": 10,
     "metadata": {},
     "output_type": "execute_result"
    }
   ],
   "source": [
    "for n in G_original.nodes(data=True):\n",
    "    break\n",
    "n"
   ]
  },
  {
   "cell_type": "code",
   "execution_count": 8,
   "id": "d16e9440",
   "metadata": {},
   "outputs": [],
   "source": [
    "nx.readwrite.gml.write_gml(G_original,\"34busEx.gml\") #Graph undirected with edge features and node features which are constant"
   ]
  },
  {
   "cell_type": "code",
   "execution_count": null,
   "id": "49dec663",
   "metadata": {},
   "outputs": [],
   "source": []
  },
  {
   "cell_type": "code",
   "execution_count": null,
   "id": "1225c7f7",
   "metadata": {},
   "outputs": [],
   "source": []
  }
 ],
 "metadata": {
  "kernelspec": {
   "display_name": "Python 3 (ipykernel)",
   "language": "python",
   "name": "python3"
  },
  "language_info": {
   "codemirror_mode": {
    "name": "ipython",
    "version": 3
   },
   "file_extension": ".py",
   "mimetype": "text/x-python",
   "name": "python",
   "nbconvert_exporter": "python",
   "pygments_lexer": "ipython3",
   "version": "3.9.12"
  }
 },
 "nbformat": 4,
 "nbformat_minor": 5
}
