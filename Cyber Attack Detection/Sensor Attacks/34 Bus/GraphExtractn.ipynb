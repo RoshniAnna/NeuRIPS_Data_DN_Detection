{
 "cells": [
  {
   "cell_type": "code",
   "execution_count": 2,
   "id": "0a79f9b3",
   "metadata": {},
   "outputs": [],
   "source": [
    "import os\n",
    "from DSSCircuit_Interface import * \n",
    "import networkx as nx"
   ]
  },
  {
   "cell_type": "code",
   "execution_count": 3,
   "id": "e808a977",
   "metadata": {},
   "outputs": [],
   "source": [
    "FolderName=os.path.dirname(os.path.realpath(\"__file__\"))\n",
    "d_obj= DSS(r\"\"+ FolderName+ \"\\ieee34Mod2.dss\")  #creating a DSS object instance"
   ]
  },
  {
   "cell_type": "code",
   "execution_count": 4,
   "id": "3affd425",
   "metadata": {},
   "outputs": [],
   "source": [
    "d_obj.compile_ckt_dss() #compiling the circuit\n",
    "# d_obj.solve_snapshot_dss(1.0) #solving snapshot power flow\n",
    "d_obj.dssSolution.Solve()"
   ]
  },
  {
   "cell_type": "code",
   "execution_count": 5,
   "id": "20fa2660",
   "metadata": {},
   "outputs": [],
   "source": [
    "edges_dictlist=[] #dictionary for edge information\n",
    "G_original=nx.Graph() #undirected graph\n",
    "for e in d_obj.get_AllPDElements():\n",
    "    if ((e.split('.')[0]=='Line') or (e.split('.')[0]=='Transformer')): #only if its a line or transformer used in graph(capacitors avoided)\n",
    "        branch_obj=Branch(d_obj,e) #creating  a branch object instance with full name\n",
    "        sr_node=branch_obj.bus_fr.split('.')[0] #extracting source bus of branch\n",
    "        tar_node=branch_obj.bus_to.split('.')[0] #extracting target bus of branch\n",
    "        name=e.split('.')[1] #getting the name of the element(label or id)\n",
    "        el_type=e.split('.')[0] #getting the type of the element (line or transformer)\n",
    "        numphases=branch_obj.nphases #extracting number of phases of branch\n",
    "        Inorm=branch_obj.Cap #extracting the base network (normal operation at max load) current flow in branch\n",
    "        Imax=branch_obj.MaxCap #extracting the maximum permissible current flow in branch\n",
    "        Iresid=Imax-Inorm #residual current flow in branch\n",
    "        if el_type== 'Line':\n",
    "            R,X=d_obj.get_Line_RX(name)\n",
    "        else:\n",
    "            R,X=d_obj.get_Transformer_RX(name)\n",
    "        edges_dictlist.append({\"source\":sr_node, \"target\":tar_node, \"label\":name, \"device\":el_type, \"resistance\":R, \"reactance\":X, \"phases\":numphases,\"maxcap\":Imax,\"cap\":Inorm,\"residue\":Iresid})\n",
    "        G_original.add_edge(sr_node, tar_node, label=name, device=el_type, resistance=R, reactance=X, phases=numphases,maxcap=Imax,cap=Inorm,residue=Iresid)"
   ]
  },
  {
   "cell_type": "code",
   "execution_count": 6,
   "id": "0ae3ec76",
   "metadata": {},
   "outputs": [],
   "source": [
    "buses=list(d_obj.get_AllBuses())\n",
    "loads=d_obj.get_AllLoads()\n",
    "for b in buses:\n",
    "    P_sum=0\n",
    "    Q_sum=0\n",
    "    for j in range(len(loads)):\n",
    "        if loads[j][\"Bus\"]==b:\n",
    "            P_sum=P_sum+loads[j].get(\"Pload\")\n",
    "            Q_sum=Q_sum+loads[j].get(\"Qload\")\n",
    "    G_original.nodes[b][\"Device\"]=\"Bus\"\n",
    "    G_original.nodes[b][\"TotConnected_ActiveLoad\"]=P_sum\n",
    "    G_original.nodes[b][\"TotConnected_ReactiveLoad\"]=Q_sum"
   ]
  },
  {
   "cell_type": "code",
   "execution_count": 7,
   "id": "de79effa",
   "metadata": {
    "scrolled": true
   },
   "outputs": [
    {
     "data": {
      "text/plain": [
       "EdgeDataView([('sourcebus', '800', {'label': 'subxf', 'device': 'Transformer', 'resistance': 0.012400199999999998, 'reactance': 0.024800399999999997, 'phases': 3, 'maxcap': 313.7773202117531, 'cap': 16.50637143694331, 'residue': 297.27094877480977}), ('800', '802', {'label': 'l1', 'device': 'Line', 'resistance': 0.5473215904400001, 'reactance': 0.40716439247999997, 'phases': 3, 'maxcap': 600.0, 'cap': 45.77337931904375, 'residue': 554.2266206809562}), ('802', 'mid806', {'label': 'l2a', 'device': 'Line', 'resistance': 0.1835012309033333, 'reactance': 0.13651054244, 'phases': 3, 'maxcap': 600.0, 'cap': 45.779600967482736, 'residue': 554.2203990325172}), ('mid806', '806', {'label': 'l2b', 'device': 'Line', 'resistance': 0.1835012309033333, 'reactance': 0.13651054244, 'phases': 3, 'maxcap': 600.0, 'cap': 44.51783080175414, 'residue': 555.4821691982459}), ('806', '808', {'label': 'l3', 'device': 'Line', 'resistance': 6.837277077473332, 'reactance': 5.086398592879998, 'phases': 3, 'maxcap': 600.0, 'cap': 44.51972510578045, 'residue': 555.4802748942195}), ('808', 'mid810', {'label': 'l4a', 'device': 'Line', 'resistance': 0.512887872, 'reactance': 0.2721543966666667, 'phases': 1, 'maxcap': 600.0, 'cap': 1.2151592668082551, 'residue': 598.7848407331918}), ('808', '812', {'label': 'l5', 'device': 'Line', 'resistance': 7.955255675000001, 'reactance': 5.918087100000001, 'phases': 3, 'maxcap': 600.0, 'cap': 44.20293789092054, 'residue': 555.7970621090794}), ('mid810', '810', {'label': 'l4b', 'device': 'Line', 'resistance': 0.512887872, 'reactance': 0.2721543966666667, 'phases': 1, 'maxcap': 600.0, 'cap': 0.03436190186304016, 'residue': 599.965638098137}), ('812', '814', {'label': 'l6', 'device': 'Line', 'resistance': 6.306926699139999, 'reactance': 4.691859452880001, 'phases': 3, 'maxcap': 600.0, 'cap': 44.280406368383105, 'residue': 555.7195936316169}), ('814', '814r', {'label': 'reg1c', 'device': 'Transformer', 'resistance': 0.0103334688, 'reactance': 1.0333468799999999, 'phases': 1, 'maxcap': 208.68113522537564, 'cap': 39.35221928283208, 'residue': 169.32891594254357}), ('814r', '850', {'label': 'l7', 'device': 'Line', 'resistance': 0.00320088384, 'reactance': 0.0015930555533333335, 'phases': 3, 'maxcap': 600.0, 'cap': 42.217164386449504, 'residue': 557.7828356135504}), ('850', '816', {'label': 'l24', 'device': 'Line', 'resistance': 0.09922739904, 'reactance': 0.04938472215333332, 'phases': 3, 'maxcap': 600.0, 'cap': 42.217184240091854, 'residue': 557.7828157599081}), ('816', '818', {'label': 'l8', 'device': 'Line', 'resistance': 0.30221855999999997, 'reactance': 0.16036665, 'phases': 1, 'maxcap': 600.0, 'cap': 12.97440611610763, 'residue': 587.0255938838924}), ('816', 'mid824', {'label': 'l9a', 'device': 'Line', 'resistance': 1.6340512003200003, 'reactance': 0.8132548599766668, 'phases': 3, 'maxcap': 600.0, 'cap': 38.02083274212416, 'residue': 561.9791672578758}), ('818', 'mid820', {'label': 'l10a', 'device': 'Line', 'resistance': 4.2549192, 'reactance': 2.257793625, 'phases': 1, 'maxcap': 600.0, 'cap': 12.982729148205262, 'residue': 587.0172708517947}), ('mid824', '824', {'label': 'l9b', 'device': 'Line', 'resistance': 1.6340512003200003, 'reactance': 0.8132548599766668, 'phases': 3, 'maxcap': 600.0, 'cap': 37.913173533138995, 'residue': 562.086826466861}), ('824', 'mid826', {'label': 'l12a', 'device': 'Line', 'resistance': 0.26775504, 'reactance': 0.142079225, 'phases': 1, 'maxcap': 600.0, 'cap': 3.0952122203866574, 'residue': 596.9047877796133}), ('824', 'mid828', {'label': 'l13a', 'device': 'Line', 'resistance': 0.13443712128000002, 'reactance': 0.06690833324, 'phases': 3, 'maxcap': 600.0, 'cap': 36.95651146169553, 'residue': 563.0434885383045}), ('mid820', '820', {'label': 'l10b', 'device': 'Line', 'resistance': 4.2549192, 'reactance': 2.257793625, 'phases': 1, 'maxcap': 600.0, 'cap': 10.43435655251931, 'residue': 589.5656434474807}), ('820', 'mid822', {'label': 'l11a', 'device': 'Line', 'resistance': 1.21417632, 'reactance': 0.64428005, 'phases': 1, 'maxcap': 600.0, 'cap': 10.556131770729522, 'residue': 589.4438682292705}), ('mid822', '822', {'label': 'l11b', 'device': 'Line', 'resistance': 1.21417632, 'reactance': 0.64428005, 'phases': 1, 'maxcap': 600.0, 'cap': 0.0786631866111668, 'residue': 599.9213368133888}), ('mid826', '826', {'label': 'l12b', 'device': 'Line', 'resistance': 0.26775504, 'reactance': 0.142079225, 'phases': 1, 'maxcap': 600.0, 'cap': 0.01769320358896675, 'residue': 599.9823067964111}), ('mid828', '828', {'label': 'l13b', 'device': 'Line', 'resistance': 0.13443712128000002, 'reactance': 0.06690833324, 'phases': 3, 'maxcap': 600.0, 'cap': 36.86427820795301, 'residue': 563.135721792047}), ('828', 'mid830', {'label': 'l14a', 'device': 'Line', 'resistance': 3.2713032844800005, 'reactance': 1.6281027755066668, 'phases': 3, 'maxcap': 600.0, 'cap': 36.864853037520966, 'residue': 563.135146962479}), ('mid830', '830', {'label': 'l14b', 'device': 'Line', 'resistance': 3.2713032844800005, 'reactance': 1.6281027755066668, 'phases': 3, 'maxcap': 600.0, 'cap': 36.7088940827108, 'residue': 563.2911059172892}), ('830', '854', {'label': 'l15', 'device': 'Line', 'resistance': 0.16644595968, 'reactance': 0.08283888877333334, 'phases': 3, 'maxcap': 600.0, 'cap': 35.64164742716954, 'residue': 564.3583525728304}), ('854', 'mid856', {'label': 'l26a', 'device': 'Line', 'resistance': 2.06162544, 'reactance': 1.0939631416666666, 'phases': 1, 'maxcap': 600.0, 'cap': 0.30704283324998366, 'residue': 599.69295716675}), ('854', '852', {'label': 'l27', 'device': 'Line', 'resistance': 11.788855182719999, 'reactance': 5.867223602926667, 'phases': 3, 'maxcap': 600.0, 'cap': 35.55252483432784, 'residue': 564.4474751656721}), ('832', 'mid858', {'label': 'l16a', 'device': 'Line', 'resistance': 0.7842165408, 'reactance': 0.39029861056666665, 'phases': 3, 'maxcap': 600.0, 'cap': 23.026958307626824, 'residue': 576.9730416923732}), ('832', '852r', {'label': 'l25', 'device': 'Line', 'resistance': 0.00320088384, 'reactance': 0.0015930555533333335, 'phases': 3, 'maxcap': 600.0, 'cap': 33.11389887433348, 'residue': 566.8861011256665}), ('832', '888', {'label': 'xfm1', 'device': 'Transformer', 'resistance': 32.88064, 'reactance': 141.21369600000003, 'phases': 3, 'maxcap': 17.390068349085112, 'cap': 11.663785624047094, 'residue': 5.726282725038018}), ('mid858', '858', {'label': 'l16b', 'device': 'Line', 'resistance': 0.7842165408, 'reactance': 0.39029861056666665, 'phases': 3, 'maxcap': 600.0, 'cap': 22.68385122023028, 'residue': 577.3161487797697}), ('858', 'mid834', {'label': 'l29a', 'device': 'Line', 'resistance': 0.93305763936, 'reactance': 0.4643756937966666, 'phases': 3, 'maxcap': 600.0, 'cap': 22.634627551480392, 'residue': 577.3653724485196}), ('858', 'mid864', {'label': 'l28a', 'device': 'Line', 'resistance': 0.14315616, 'reactance': 0.07596315000000001, 'phases': 1, 'maxcap': 600.0, 'cap': 0.14285192899352797, 'residue': 599.8571480710065}), ('mid834', '834', {'label': 'l29b', 'device': 'Line', 'resistance': 0.93305763936, 'reactance': 0.4643756937966666, 'phases': 3, 'maxcap': 600.0, 'cap': 21.98181617902648, 'residue': 578.0181838209735}), ('834', '842', {'label': 'l18', 'device': 'Line', 'resistance': 0.08962474751999999, 'reactance': 0.04460555549333334, 'phases': 3, 'maxcap': 600.0, 'cap': 15.410920073872544, 'residue': 584.5890799261275}), ('834', 'mid860', {'label': 'l17a', 'device': 'Line', 'resistance': 0.32328926784, 'reactance': 0.16089861088666668, 'phases': 3, 'maxcap': 600.0, 'cap': 10.278146315587577, 'residue': 589.7218536844124}), ('842', 'mid844', {'label': 'l21a', 'device': 'Line', 'resistance': 0.2160596592, 'reactance': 0.10753124985000002, 'phases': 3, 'maxcap': 600.0, 'cap': 15.408310960620632, 'residue': 584.5916890393794}), ('836', 'mid840', {'label': 'l19a', 'device': 'Line', 'resistance': 0.13763800512, 'reactance': 0.06850138879333334, 'phases': 3, 'maxcap': 600.0, 'cap': 1.857900983807209, 'residue': 598.1420990161928}), ('836', 'mid836', {'label': 'l30b', 'device': 'Line', 'resistance': 0.42891843455999995, 'reactance': 0.21346944414666666, 'phases': 3, 'maxcap': 600.0, 'cap': 2.5383604848785875, 'residue': 597.4616395151214}), ('836', '862', {'label': 'l20', 'device': 'Line', 'resistance': 0.08962474751999999, 'reactance': 0.04460555549333334, 'phases': 3, 'maxcap': 600.0, 'cap': 0.6961680253107895, 'residue': 599.3038319746892}), ('mid840', '840', {'label': 'l19b', 'device': 'Line', 'resistance': 0.13763800512, 'reactance': 0.06850138879333334, 'phases': 3, 'maxcap': 600.0, 'cap': 0.788762875616637, 'residue': 599.2112371243834}), ('mid844', '844', {'label': 'l21b', 'device': 'Line', 'resistance': 0.2160596592, 'reactance': 0.10753124985000002, 'phases': 3, 'maxcap': 600.0, 'cap': 15.316120865908928, 'residue': 584.6838791340911}), ('844', 'mid846', {'label': 'l22a', 'device': 'Line', 'resistance': 0.58256085888, 'reactance': 0.2899361107066667, 'phases': 3, 'maxcap': 600.0, 'cap': 9.561037427860265, 'residue': 590.4389625721398}), ('mid846', '846', {'label': 'l22b', 'device': 'Line', 'resistance': 0.58256085888, 'reactance': 0.2899361107066667, 'phases': 3, 'maxcap': 600.0, 'cap': 9.70098317165027, 'residue': 590.2990168283497}), ('846', 'mid848', {'label': 'l23a', 'device': 'Line', 'resistance': 0.08482342176000002, 'reactance': 0.04221597216333334, 'phases': 3, 'maxcap': 600.0, 'cap': 9.671214868292866, 'residue': 590.3287851317071}), ('mid848', '848', {'label': 'l23b', 'device': 'Line', 'resistance': 0.08482342176000002, 'reactance': 0.04221597216333334, 'phases': 3, 'maxcap': 600.0, 'cap': 9.792324162531273, 'residue': 590.2076758374687}), ('mid856', '856', {'label': 'l26b', 'device': 'Line', 'resistance': 2.06162544, 'reactance': 1.0939631416666666, 'phases': 1, 'maxcap': 600.0, 'cap': 0.1338024885311463, 'residue': 599.8661975114688}), ('852', '852r', {'label': 'reg2c', 'device': 'Transformer', 'resistance': 0.0103334688, 'reactance': 1.0333468799999999, 'phases': 1, 'maxcap': 208.68113522537564, 'cap': 36.5095460585912, 'residue': 172.17158916678443}), ('888', '890', {'label': 'l32', 'device': 'Line', 'resistance': 2.24019999808, 'reactance': 1.6665333273599998, 'phases': 3, 'maxcap': 600.0, 'cap': 69.81445271407766, 'residue': 530.1855472859223}), ('mid864', '864', {'label': 'l28b', 'device': 'Line', 'resistance': 0.14315616, 'reactance': 0.07596315000000001, 'phases': 1, 'maxcap': 600.0, 'cap': 0.009635250117198154, 'residue': 599.9903647498828}), ('mid860', '860', {'label': 'l17b', 'device': 'Line', 'resistance': 0.32328926784, 'reactance': 0.16089861088666668, 'phases': 3, 'maxcap': 600.0, 'cap': 6.260359947216234, 'residue': 593.7396400527838}), ('860', 'mid836', {'label': 'l30a', 'device': 'Line', 'resistance': 0.42891843455999995, 'reactance': 0.21346944414666666, 'phases': 3, 'maxcap': 600.0, 'cap': 4.565759901569888, 'residue': 595.4342400984301}), ('862', 'mid838', {'label': 'l31a', 'device': 'Line', 'resistance': 0.29480598, 'reactance': 0.21802527000000002, 'phases': 1, 'maxcap': 600.0, 'cap': 2.0806913121345927, 'residue': 597.9193086878654}), ('mid838', '838', {'label': 'l31b', 'device': 'Line', 'resistance': 0.29480598, 'reactance': 0.21802527000000002, 'phases': 1, 'maxcap': 600.0, 'cap': 0.029843509891408843, 'residue': 599.9701564901086})])"
      ]
     },
     "execution_count": 7,
     "metadata": {},
     "output_type": "execute_result"
    }
   ],
   "source": [
    "G_original.edges(data=True)"
   ]
  },
  {
   "cell_type": "code",
   "execution_count": 8,
   "id": "5bd9da16",
   "metadata": {
    "scrolled": true
   },
   "outputs": [
    {
     "data": {
      "text/plain": [
       "NodeDataView({'sourcebus': {'Device': 'Bus', 'TotConnected_ActiveLoad': 0, 'TotConnected_ReactiveLoad': 0}, '800': {'Device': 'Bus', 'TotConnected_ActiveLoad': 0, 'TotConnected_ReactiveLoad': 0}, '802': {'Device': 'Bus', 'TotConnected_ActiveLoad': 0, 'TotConnected_ReactiveLoad': 0}, 'mid806': {'Device': 'Bus', 'TotConnected_ActiveLoad': 55.0, 'TotConnected_ReactiveLoad': 29.0}, '806': {'Device': 'Bus', 'TotConnected_ActiveLoad': 0, 'TotConnected_ReactiveLoad': 0}, '808': {'Device': 'Bus', 'TotConnected_ActiveLoad': 0, 'TotConnected_ReactiveLoad': 0}, 'mid810': {'Device': 'Bus', 'TotConnected_ActiveLoad': 16.0, 'TotConnected_ReactiveLoad': 8.0}, '810': {'Device': 'Bus', 'TotConnected_ActiveLoad': 0, 'TotConnected_ReactiveLoad': 0}, '812': {'Device': 'Bus', 'TotConnected_ActiveLoad': 0, 'TotConnected_ReactiveLoad': 0}, '814': {'Device': 'Bus', 'TotConnected_ActiveLoad': 0, 'TotConnected_ReactiveLoad': 0}, '814r': {'Device': 'Bus', 'TotConnected_ActiveLoad': 0, 'TotConnected_ReactiveLoad': 0}, '850': {'Device': 'Bus', 'TotConnected_ActiveLoad': 0, 'TotConnected_ReactiveLoad': 0}, '816': {'Device': 'Bus', 'TotConnected_ActiveLoad': 0, 'TotConnected_ReactiveLoad': 0}, '818': {'Device': 'Bus', 'TotConnected_ActiveLoad': 0, 'TotConnected_ReactiveLoad': 0}, 'mid824': {'Device': 'Bus', 'TotConnected_ActiveLoad': 5.0, 'TotConnected_ReactiveLoad': 2.0}, '824': {'Device': 'Bus', 'TotConnected_ActiveLoad': 0, 'TotConnected_ReactiveLoad': 0}, 'mid820': {'Device': 'Bus', 'TotConnected_ActiveLoad': 34.0, 'TotConnected_ReactiveLoad': 17.0}, '820': {'Device': 'Bus', 'TotConnected_ActiveLoad': 0, 'TotConnected_ReactiveLoad': 0}, 'mid822': {'Device': 'Bus', 'TotConnected_ActiveLoad': 135.0, 'TotConnected_ReactiveLoad': 70.0}, '822': {'Device': 'Bus', 'TotConnected_ActiveLoad': 0, 'TotConnected_ReactiveLoad': 0}, 'mid826': {'Device': 'Bus', 'TotConnected_ActiveLoad': 40.0, 'TotConnected_ReactiveLoad': 20.0}, '826': {'Device': 'Bus', 'TotConnected_ActiveLoad': 0, 'TotConnected_ReactiveLoad': 0}, 'mid828': {'Device': 'Bus', 'TotConnected_ActiveLoad': 4.0, 'TotConnected_ReactiveLoad': 2.0}, '828': {'Device': 'Bus', 'TotConnected_ActiveLoad': 0, 'TotConnected_ReactiveLoad': 0}, 'mid830': {'Device': 'Bus', 'TotConnected_ActiveLoad': 7.0, 'TotConnected_ReactiveLoad': 3.0}, '830': {'Device': 'Bus', 'TotConnected_ActiveLoad': 45.0, 'TotConnected_ReactiveLoad': 20.0}, '854': {'Device': 'Bus', 'TotConnected_ActiveLoad': 0, 'TotConnected_ReactiveLoad': 0}, '832': {'Device': 'Bus', 'TotConnected_ActiveLoad': 0, 'TotConnected_ReactiveLoad': 0}, 'mid858': {'Device': 'Bus', 'TotConnected_ActiveLoad': 15.0, 'TotConnected_ReactiveLoad': 7.0}, '858': {'Device': 'Bus', 'TotConnected_ActiveLoad': 0, 'TotConnected_ReactiveLoad': 0}, 'mid834': {'Device': 'Bus', 'TotConnected_ActiveLoad': 32.0, 'TotConnected_ReactiveLoad': 17.0}, '834': {'Device': 'Bus', 'TotConnected_ActiveLoad': 0, 'TotConnected_ReactiveLoad': 0}, '842': {'Device': 'Bus', 'TotConnected_ActiveLoad': 0, 'TotConnected_ReactiveLoad': 0}, '836': {'Device': 'Bus', 'TotConnected_ActiveLoad': 0, 'TotConnected_ReactiveLoad': 0}, 'mid840': {'Device': 'Bus', 'TotConnected_ActiveLoad': 40.0, 'TotConnected_ReactiveLoad': 20.0}, '840': {'Device': 'Bus', 'TotConnected_ActiveLoad': 27.0, 'TotConnected_ReactiveLoad': 21.0}, 'mid844': {'Device': 'Bus', 'TotConnected_ActiveLoad': 9.0, 'TotConnected_ReactiveLoad': 5.0}, '844': {'Device': 'Bus', 'TotConnected_ActiveLoad': 405.0, 'TotConnected_ReactiveLoad': 315.0}, 'mid846': {'Device': 'Bus', 'TotConnected_ActiveLoad': 45.0, 'TotConnected_ReactiveLoad': 23.0}, '846': {'Device': 'Bus', 'TotConnected_ActiveLoad': 0, 'TotConnected_ReactiveLoad': 0}, 'mid848': {'Device': 'Bus', 'TotConnected_ActiveLoad': 23.0, 'TotConnected_ReactiveLoad': 11.0}, '848': {'Device': 'Bus', 'TotConnected_ActiveLoad': 60.0, 'TotConnected_ReactiveLoad': 48.0}, 'mid856': {'Device': 'Bus', 'TotConnected_ActiveLoad': 4.0, 'TotConnected_ReactiveLoad': 2.0}, '856': {'Device': 'Bus', 'TotConnected_ActiveLoad': 0, 'TotConnected_ReactiveLoad': 0}, '852': {'Device': 'Bus', 'TotConnected_ActiveLoad': 0, 'TotConnected_ReactiveLoad': 0}, '852r': {'Device': 'Bus', 'TotConnected_ActiveLoad': 0, 'TotConnected_ReactiveLoad': 0}, '888': {'Device': 'Bus', 'TotConnected_ActiveLoad': 0, 'TotConnected_ReactiveLoad': 0}, 'mid864': {'Device': 'Bus', 'TotConnected_ActiveLoad': 2.0, 'TotConnected_ReactiveLoad': 1.0}, '864': {'Device': 'Bus', 'TotConnected_ActiveLoad': 0, 'TotConnected_ReactiveLoad': 0}, 'mid860': {'Device': 'Bus', 'TotConnected_ActiveLoad': 146.0, 'TotConnected_ReactiveLoad': 73.0}, '860': {'Device': 'Bus', 'TotConnected_ActiveLoad': 60.0, 'TotConnected_ReactiveLoad': 48.0}, 'mid836': {'Device': 'Bus', 'TotConnected_ActiveLoad': 82.0, 'TotConnected_ReactiveLoad': 43.0}, '862': {'Device': 'Bus', 'TotConnected_ActiveLoad': 0, 'TotConnected_ReactiveLoad': 0}, 'mid838': {'Device': 'Bus', 'TotConnected_ActiveLoad': 28.0, 'TotConnected_ReactiveLoad': 14.0}, '838': {'Device': 'Bus', 'TotConnected_ActiveLoad': 0, 'TotConnected_ReactiveLoad': 0}, '890': {'Device': 'Bus', 'TotConnected_ActiveLoad': 450.0, 'TotConnected_ReactiveLoad': 225.0}})"
      ]
     },
     "execution_count": 8,
     "metadata": {},
     "output_type": "execute_result"
    }
   ],
   "source": [
    "G_original.nodes(data=True)"
   ]
  },
  {
   "cell_type": "code",
   "execution_count": 9,
   "id": "d16e9440",
   "metadata": {},
   "outputs": [],
   "source": [
    "nx.readwrite.gml.write_gml(G_original,\"34busEx.gml\") #Graph undirected with edge features and node features which are constant"
   ]
  },
  {
   "cell_type": "code",
   "execution_count": null,
   "id": "49dec663",
   "metadata": {},
   "outputs": [],
   "source": []
  },
  {
   "cell_type": "code",
   "execution_count": null,
   "id": "1225c7f7",
   "metadata": {},
   "outputs": [],
   "source": []
  }
 ],
 "metadata": {
  "kernelspec": {
   "display_name": "Python 3 (ipykernel)",
   "language": "python",
   "name": "python3"
  },
  "language_info": {
   "codemirror_mode": {
    "name": "ipython",
    "version": 3
   },
   "file_extension": ".py",
   "mimetype": "text/x-python",
   "name": "python",
   "nbconvert_exporter": "python",
   "pygments_lexer": "ipython3",
   "version": "3.9.12"
  }
 },
 "nbformat": 4,
 "nbformat_minor": 5
}
