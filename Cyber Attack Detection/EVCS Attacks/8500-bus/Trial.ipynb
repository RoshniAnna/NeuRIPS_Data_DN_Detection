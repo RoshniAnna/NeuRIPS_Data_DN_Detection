{
 "cells": [
  {
   "cell_type": "code",
   "execution_count": 1,
   "id": "5e91f5ba",
   "metadata": {},
   "outputs": [],
   "source": [
    "import os\n",
    "from scipy.io import loadmat\n",
    "import pandas as pd\n",
    "from GraphBuild import * \n",
    "import matplotlib.pyplot as plt\n",
    "import random"
   ]
  },
  {
   "cell_type": "code",
   "execution_count": 2,
   "id": "a5cc43c8",
   "metadata": {},
   "outputs": [],
   "source": [
    "mat_data = loadmat('chargerdata.mat') # Reading the charging station data"
   ]
  },
  {
   "cell_type": "code",
   "execution_count": 3,
   "id": "3baf9262",
   "metadata": {},
   "outputs": [],
   "source": [
    "charger_data = mat_data['chargerdata']"
   ]
  },
  {
   "cell_type": "code",
   "execution_count": 4,
   "id": "2664a1e5",
   "metadata": {},
   "outputs": [],
   "source": [
    "Chargers_Select = []\n",
    "# Loop through each EV charger entry\n",
    "for charger_name in charger_data.dtype.names:\n",
    "    daily_time = charger_data[charger_name][0,0]['daily_time'][0][0].flatten()\n",
    "    daily_charging_power = charger_data[charger_name][0,0]['daily_charging_power'][0][0].flatten()\n",
    "    daily_charging_current = charger_data[charger_name][0,0]['daily_charging_current'][0][0].flatten()\n",
    "    daily_charging_voltage = charger_data[charger_name][0,0]['daily_charging_voltage'][0][0].flatten()\n",
    "    latitude = charger_data[charger_name][0,0]['Latitude'][0][0].flatten()\n",
    "    longitude = charger_data[charger_name][0,0]['Longitude'][0][0].flatten()\n",
    "    data = {'Latitude':latitude, \n",
    "            'Longitude':longitude, \n",
    "            'daily_charging_current':daily_charging_current,\n",
    "            'daily_charging_power':daily_charging_power*5,\n",
    "            'daily_charging_voltage':daily_charging_voltage,\n",
    "            'daily_time': daily_time}\n",
    "    Chargers_Select.append({'name':charger_name, 'data':data})"
   ]
  },
  {
   "cell_type": "code",
   "execution_count": 5,
   "id": "2b449ef4",
   "metadata": {},
   "outputs": [],
   "source": [
    "for d in Chargers_Select:\n",
    "    d['PBase'] = (max(d['data']['daily_charging_power'])*1.05)/1000 # slighlty more than maximum and converting it to kW"
   ]
  },
  {
   "cell_type": "code",
   "execution_count": 6,
   "id": "72c0890c",
   "metadata": {},
   "outputs": [],
   "source": [
    "# Charging Stations\n",
    "StationsInfo  =[{'no': 1, 'bus': 'l3104136','numphase':3, 'phaseconn':'.1.2.3', 'kV':12.47, 'indx':0, 'kw':Chargers_Select[0]['PBase'], 'kwh':Chargers_Select[0]['PBase']*10.5*3600, 'stored':0, 'reserve':0},\n",
    "                {'no': 2, 'bus': 'l2895449','numphase':3, 'phaseconn':'.1.2.3', 'kV':12.47, 'indx':1, 'kw':Chargers_Select[1]['PBase'], 'kwh':Chargers_Select[1]['PBase']*10.5*3600, 'stored':0, 'reserve':0},\n",
    "                {'no': 3, 'bus': 'l3010560','numphase':3, 'phaseconn':'.1.2.3', 'kV':12.47, 'indx':2, 'kw':Chargers_Select[2]['PBase'], 'kwh':Chargers_Select[2]['PBase']*10.5*3600, 'stored':0, 'reserve':0},\n",
    "                {'no': 4, 'bus': 'l2876797','numphase':3, 'phaseconn':'.1.2.3', 'kV':12.47, 'indx':0, 'kw':Chargers_Select[0]['PBase'], 'kwh':Chargers_Select[0]['PBase']*10.5*3600, 'stored':0, 'reserve':0},\n",
    "                {'no': 5, 'bus': 'l2876814','numphase':3, 'phaseconn':'.1.2.3', 'kV':12.47, 'indx':1, 'kw':Chargers_Select[1]['PBase'], 'kwh':Chargers_Select[1]['PBase']*10.5*3600, 'stored':0, 'reserve':0},\n",
    "                {'no': 6, 'bus': 'l3081380','numphase':3, 'phaseconn':'.1.2.3', 'kV':12.47, 'indx':2, 'kw':Chargers_Select[2]['PBase'], 'kwh':Chargers_Select[2]['PBase']*10.5*3600, 'stored':0, 'reserve':0},\n",
    "                {'no': 7, 'bus': 'l2766718','numphase':3, 'phaseconn':'.1.2.3', 'kV':12.47, 'indx':1, 'kw':Chargers_Select[1]['PBase'], 'kwh':Chargers_Select[1]['PBase']*10.5*3600, 'stored':0, 'reserve':0}]"
   ]
  },
  {
   "cell_type": "code",
   "execution_count": 7,
   "id": "1de8aafa",
   "metadata": {},
   "outputs": [
    {
     "data": {
      "text/plain": [
       "[{'no': 1,\n",
       "  'bus': 'l3104136',\n",
       "  'numphase': 3,\n",
       "  'phaseconn': '.1.2.3',\n",
       "  'kV': 12.47,\n",
       "  'indx': 0,\n",
       "  'kw': 368.449361198086,\n",
       "  'kwh': 13927385.853287652,\n",
       "  'stored': 0,\n",
       "  'reserve': 0},\n",
       " {'no': 2,\n",
       "  'bus': 'l2895449',\n",
       "  'numphase': 3,\n",
       "  'phaseconn': '.1.2.3',\n",
       "  'kV': 12.47,\n",
       "  'indx': 1,\n",
       "  'kw': 261.20449606385563,\n",
       "  'kwh': 9873529.951213742,\n",
       "  'stored': 0,\n",
       "  'reserve': 0},\n",
       " {'no': 3,\n",
       "  'bus': 'l3010560',\n",
       "  'numphase': 3,\n",
       "  'phaseconn': '.1.2.3',\n",
       "  'kV': 12.47,\n",
       "  'indx': 2,\n",
       "  'kw': 544.6198183458613,\n",
       "  'kwh': 20586629.133473556,\n",
       "  'stored': 0,\n",
       "  'reserve': 0},\n",
       " {'no': 4,\n",
       "  'bus': 'l2876797',\n",
       "  'numphase': 3,\n",
       "  'phaseconn': '.1.2.3',\n",
       "  'kV': 12.47,\n",
       "  'indx': 0,\n",
       "  'kw': 368.449361198086,\n",
       "  'kwh': 13927385.853287652,\n",
       "  'stored': 0,\n",
       "  'reserve': 0},\n",
       " {'no': 5,\n",
       "  'bus': 'l2876814',\n",
       "  'numphase': 3,\n",
       "  'phaseconn': '.1.2.3',\n",
       "  'kV': 12.47,\n",
       "  'indx': 1,\n",
       "  'kw': 261.20449606385563,\n",
       "  'kwh': 9873529.951213742,\n",
       "  'stored': 0,\n",
       "  'reserve': 0},\n",
       " {'no': 6,\n",
       "  'bus': 'l3081380',\n",
       "  'numphase': 3,\n",
       "  'phaseconn': '.1.2.3',\n",
       "  'kV': 12.47,\n",
       "  'indx': 2,\n",
       "  'kw': 544.6198183458613,\n",
       "  'kwh': 20586629.133473556,\n",
       "  'stored': 0,\n",
       "  'reserve': 0},\n",
       " {'no': 7,\n",
       "  'bus': 'l2766718',\n",
       "  'numphase': 3,\n",
       "  'phaseconn': '.1.2.3',\n",
       "  'kV': 12.47,\n",
       "  'indx': 1,\n",
       "  'kw': 261.20449606385563,\n",
       "  'kwh': 9873529.951213742,\n",
       "  'stored': 0,\n",
       "  'reserve': 0}]"
      ]
     },
     "execution_count": 7,
     "metadata": {},
     "output_type": "execute_result"
    }
   ],
   "source": [
    "StationsInfo "
   ]
  },
  {
   "cell_type": "code",
   "execution_count": 7,
   "id": "9ea3d6f3",
   "metadata": {},
   "outputs": [],
   "source": [
    "# Initialize Circuit\n",
    "FolderName = os.path.dirname(os.path.realpath(\"__file__\"))\n",
    "DSSfile = r\"\"+ FolderName+ \"\\Master.dss\"\n",
    "Ckt_obj = CircuitSetup(DSSfile, StationsInfo)  #creating a DSS object instance"
   ]
  },
  {
   "cell_type": "code",
   "execution_count": 8,
   "id": "fc2d2017",
   "metadata": {},
   "outputs": [],
   "source": [
    "G_original =  build_graph(Ckt_obj)\n",
    "nx.readwrite.gml.write_gml(G_original,\"8500busEx.gml\") #Graph undirected with edge features and node features which are constant"
   ]
  },
  {
   "cell_type": "code",
   "execution_count": 9,
   "id": "d7921401",
   "metadata": {},
   "outputs": [],
   "source": [
    "node_list=list(G_original.nodes())\n",
    "edge_list=list(G_original.edges())"
   ]
  },
  {
   "cell_type": "code",
   "execution_count": 10,
   "id": "ba4db68d",
   "metadata": {},
   "outputs": [],
   "source": [
    "input_file = 'LoadShape1.xlsx'\n",
    "sheet_name = 'LoadShape1'  # Change to the sheet you want to split\n",
    "df = pd.read_excel(input_file, sheet_name=sheet_name)\n",
    "\n",
    "points_per_day = 24  # Assuming 1-hour resolution (24 points = 24 hours)\n",
    "# Convert to flat list\n",
    "loadshape_values = df.iloc[:, 0].values.tolist()\n",
    "# Check total number of complete days available\n",
    "num_days = len(loadshape_values) // points_per_day\n",
    "# Slice the loadshape into daily\n",
    "LoadShapes = []\n",
    "for i in range(num_days):\n",
    "    start_idx = i * points_per_day\n",
    "    end_idx = (i + 1) * points_per_day\n",
    "    daily_shape = loadshape_values[start_idx:end_idx]\n",
    "    LoadShapes.append(daily_shape)"
   ]
  },
  {
   "cell_type": "code",
   "execution_count": 11,
   "id": "105d31d2",
   "metadata": {},
   "outputs": [],
   "source": [
    "# Initializing Load Demand shape\n",
    "Ckt_obj.dss.Text.Command(f\"New LoadShape.LoadVar\")"
   ]
  },
  {
   "cell_type": "code",
   "execution_count": 12,
   "id": "aef06c7d",
   "metadata": {},
   "outputs": [],
   "source": [
    "# Initializing Storage Shapes\n",
    "for i in range(len(StationsInfo)):\n",
    "    shape_name = \"StorageShape\"+str(StationsInfo[i]['no'])\n",
    "    Ckt_obj.dss.Text.Command(f\"New LoadShape.{shape_name}\")  "
   ]
  },
  {
   "cell_type": "code",
   "execution_count": 13,
   "id": "0a05e947",
   "metadata": {},
   "outputs": [],
   "source": [
    "loadshape_day = random.choice(LoadShapes)"
   ]
  },
  {
   "cell_type": "code",
   "execution_count": 14,
   "id": "8cbe3678",
   "metadata": {},
   "outputs": [],
   "source": [
    "charging_profiles = []\n",
    "for i in range(len(StationsInfo)):\n",
    "    sindx = StationsInfo[i]['indx']\n",
    "    charge_P = -1*(Chargers_Select[sindx]['data']['daily_charging_power']/(StationsInfo[i]['kw']*1000)) # converting the charging power to kW, normalizing wrt to max Power and -ve (indicate charging)\n",
    "    charging_profiles.append(charge_P)"
   ]
  },
  {
   "cell_type": "code",
   "execution_count": 15,
   "id": "a9e058df",
   "metadata": {},
   "outputs": [],
   "source": [
    "def Powerflow_Timeseries(Ckt_obj, loadshape_day, charging_profiles):\n",
    "    # Edit the LoadShape in opendss\n",
    "    Ckt_obj.dss.Text.Command(f\"Edit LoadShape.LoadVar npts={len(loadshape_day)} interval=1 mult=(\" + ' '.join(map(str, loadshape_day)) + \")\")\n",
    "    # Assign Load shapes\n",
    "    Ckt_obj.dss.Text.Command(\"BatchEdit Load..* daily=LoadVar\")\n",
    "    \n",
    "    # Edit the Storage Shape in opendss\n",
    "    for i in range(len(StationsInfo)):\n",
    "        shape_name = \"StorageShape\"+str(StationsInfo[i]['no'])\n",
    "        charge_P = charging_profiles[i]\n",
    "        Ckt_obj.dss.Text.Command(f'Edit LoadShape.{shape_name} npts={len(charge_P)} pmult=({ \" \".join(map(str, charge_P)) }) sinterval=1')\n",
    "        # Assign Storage shapes\n",
    "        elem_name = 'ChargeStatn'+str(StationsInfo[i]['no'])\n",
    "        Ckt_obj.dss.Text.Command(f'Edit Storage.{elem_name} Daily={shape_name}')\n",
    "          \n",
    "    # Time-series simulation        \n",
    "    V_node_Sc = {bus: [] for bus in node_list}\n",
    "    flow_branch_Sc= {br: [] for br in edge_list}\n",
    "    powers_Sc = {stations['no']:[] for stations in StationsInfo}\n",
    "    states_Sc = {stations['no']:[] for stations in StationsInfo}\n",
    "    \n",
    "    Ckt_obj.dss.Text.Command(\"Set mode=daily\")\n",
    "    Ckt_obj.dss.Text.Command(\"Set stepsize=5m\")\n",
    "    Ckt_obj.dss.Text.Command(\"Set number=1\")\n",
    "    t= 0\n",
    "    while t<24:\n",
    "            Ckt_obj.dss.Solution.Solve()\n",
    "            # Get Node Voltages\n",
    "            for bus in node_list:\n",
    "                V=Bus(Ckt_obj,bus).Vmag\n",
    "                V_node_Sc[bus].append(V) \n",
    "                \n",
    "            # Get Storage powers  \n",
    "            i = Ckt_obj.dss.Storages.First()\n",
    "            while i>0:\n",
    "                    sno = StationsInfo[i-1]['no']\n",
    "                    powers_Sc[sno].append(sum(Ckt_obj.dss.CktElement.Powers()[::2])) # Circuit element power \n",
    "                    states_Sc[sno].append(Ckt_obj.dss.Storages.State()) # Storage state \n",
    "                    i= Ckt_obj.dss.Storages.Next()       \n",
    "                    \n",
    "            # Get branchflows  \n",
    "            for (u,v) in edge_list:\n",
    "                branch_label = G_original[u][v]['Label']\n",
    "                branch_device = G_original[u][v]['Device']\n",
    "                branch_elem = f\"{branch_device}.{branch_label}\"\n",
    "                branch_pflow = Branch(Ckt_obj,branch_elem).flow\n",
    "                branchflow = np.sum(branch_pflow)\n",
    "                flow_branch_Sc[(u,v)].append(branchflow)\n",
    "                    \n",
    "            t = Ckt_obj.dss.Solution.DblHour()\n",
    "        \n",
    "    return  V_node_Sc, powers_Sc, flow_branch_Sc, states_Sc\n",
    "    "
   ]
  },
  {
   "cell_type": "code",
   "execution_count": 16,
   "id": "f09eb524",
   "metadata": {},
   "outputs": [],
   "source": [
    "V_node_Sc, powers_Sc, flow_branch_Sc, states_Sc = Powerflow_Timeseries(Ckt_obj, loadshape_day, charging_profiles)"
   ]
  },
  {
   "cell_type": "code",
   "execution_count": null,
   "id": "da7e47e4",
   "metadata": {},
   "outputs": [],
   "source": []
  }
 ],
 "metadata": {
  "kernelspec": {
   "display_name": "Python 3 (ipykernel)",
   "language": "python",
   "name": "python3"
  },
  "language_info": {
   "codemirror_mode": {
    "name": "ipython",
    "version": 3
   },
   "file_extension": ".py",
   "mimetype": "text/x-python",
   "name": "python",
   "nbconvert_exporter": "python",
   "pygments_lexer": "ipython3",
   "version": "3.9.12"
  }
 },
 "nbformat": 4,
 "nbformat_minor": 5
}
