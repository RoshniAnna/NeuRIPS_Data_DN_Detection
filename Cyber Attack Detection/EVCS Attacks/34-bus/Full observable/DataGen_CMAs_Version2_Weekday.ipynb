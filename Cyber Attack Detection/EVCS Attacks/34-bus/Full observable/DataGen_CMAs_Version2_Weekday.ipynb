{
 "cells": [
  {
   "cell_type": "markdown",
   "id": "09139201",
   "metadata": {},
   "source": [
    "In this file I am generating CMAs on EV charging stations buyt increasing the complexity or stealthiness of attack scenarios"
   ]
  },
  {
   "cell_type": "code",
   "execution_count": 1,
   "id": "c56b498b",
   "metadata": {},
   "outputs": [],
   "source": [
    "import os\n",
    "from scipy.io import loadmat\n",
    "import matplotlib.pyplot as plt\n",
    "import numpy as np\n",
    "import pickle\n",
    "import random\n",
    "import networkx as nx\n",
    "from  DSSCircuit.DSS_CircuitSetup import*"
   ]
  },
  {
   "cell_type": "code",
   "execution_count": 2,
   "id": "3cab6898",
   "metadata": {},
   "outputs": [],
   "source": [
    "FolderName = os.getcwd()  # Gets the current directory where the notebook is running"
   ]
  },
  {
   "cell_type": "code",
   "execution_count": 3,
   "id": "32d1e0b1",
   "metadata": {},
   "outputs": [],
   "source": [
    "mat_data = loadmat('./ChargingData/chargerdata_Wednesday.mat') #Reading the charging station data\n",
    "# mat_data = loadmat('./ChargingData/chargerdata_Saturday.mat') #Reading the charging station data"
   ]
  },
  {
   "cell_type": "code",
   "execution_count": 4,
   "id": "094db038",
   "metadata": {},
   "outputs": [],
   "source": [
    "charger_data = mat_data['chargerdata']"
   ]
  },
  {
   "cell_type": "code",
   "execution_count": 5,
   "id": "b662b872",
   "metadata": {},
   "outputs": [],
   "source": [
    "data_rows = []\n",
    "DFWCharg_Select = []"
   ]
  },
  {
   "cell_type": "code",
   "execution_count": 6,
   "id": "8bc97bd7",
   "metadata": {},
   "outputs": [],
   "source": [
    "# Loop through each EV charger entry\n",
    "for charger_name in charger_data.dtype.names:\n",
    "    daily_time = charger_data[charger_name][0,0]['daily_time'][0][0].flatten()\n",
    "    daily_charging_power = charger_data[charger_name][0,0]['daily_charging_power'][0][0].flatten()\n",
    "    daily_charging_current = charger_data[charger_name][0,0]['daily_charging_current'][0][0].flatten()\n",
    "    daily_charging_voltage = charger_data[charger_name][0,0]['daily_charging_voltage'][0][0].flatten()\n",
    "    latitude = charger_data[charger_name][0,0]['Latitude'][0][0].flatten()\n",
    "    longitude = charger_data[charger_name][0,0]['Longitude'][0][0].flatten()\n",
    "    data = {'Latitude':latitude, \n",
    "            'Longitude':longitude, \n",
    "            'daily_charging_current':daily_charging_current,\n",
    "            'daily_charging_power':daily_charging_power,\n",
    "            'daily_charging_voltage':daily_charging_voltage,\n",
    "            'daily_time': daily_time}\n",
    "    DFWCharg_Select.append({'name':charger_name, 'data':data})"
   ]
  },
  {
   "cell_type": "code",
   "execution_count": 7,
   "id": "372a12e4",
   "metadata": {},
   "outputs": [],
   "source": [
    "for d in DFWCharg_Select:\n",
    "    d['PBase'] = (max(d['data']['daily_charging_power'])*1.05)/1000 # slighlty more than maximum and converting it to kW"
   ]
  },
  {
   "cell_type": "code",
   "execution_count": 8,
   "id": "f142d420",
   "metadata": {},
   "outputs": [],
   "source": [
    "# Charging station Info \n",
    "# I verified the bus voltages \n",
    "StationsInfo =[{'no':1, 'bus':'814', 'numphase':3, 'phaseconn':'.1.2.3', 'kV':24.9, 'kw':DFWCharg_Select[0]['PBase'], 'kwh':770000, 'stored':0, 'reserve':0},\n",
    "               {'no':2, 'bus':'890', 'numphase':3, 'phaseconn':'.1.2.3', 'kV':4.16, 'kw':DFWCharg_Select[1]['PBase'], 'kwh':480000, 'stored':0, 'reserve':0},\n",
    "               {'no':3, 'bus':'852', 'numphase':3, 'phaseconn':'.1.2.3', 'kV':24.9, 'kw':DFWCharg_Select[2]['PBase'], 'kwh':1040000, 'stored':0, 'reserve':0}]"
   ]
  },
  {
   "cell_type": "code",
   "execution_count": 9,
   "id": "72caf9c5",
   "metadata": {},
   "outputs": [
    {
     "data": {
      "text/plain": [
       "[{'name': 'EVcharger_336',\n",
       "  'data': {'Latitude': array([30.706437]),\n",
       "   'Longitude': array([-95.547224]),\n",
       "   'daily_charging_current': array([170.71875, 170.71875, 170.71875, ...,   0.     ,   0.     ,\n",
       "            0.     ]),\n",
       "   'daily_charging_power': array([63278.93493652, 63291.53137207, 63304.12780762, ...,\n",
       "              0.        ,     0.        ,     0.        ]),\n",
       "   'daily_charging_voltage': array([370.66189236, 370.73567708, 370.80946181, ..., 416.17378818,\n",
       "          416.17378818, 416.17378818]),\n",
       "   'daily_time': array([0.00000000e+00, 1.00027785e+00, 2.00055571e+00, ...,\n",
       "          8.63979994e+04, 8.63989997e+04, 8.64000000e+04])},\n",
       "  'PBase': 73.6898722396172},\n",
       " {'name': 'EVcharger_442',\n",
       "  'data': {'Latitude': array([30.010498]),\n",
       "   'Longitude': array([-95.27120625]),\n",
       "   'daily_charging_current': array([60.51375, 60.51375, 60.51375, ...,  0.     ,  0.     ,  0.     ]),\n",
       "   'daily_charging_power': array([22430.14108887, 22434.6060791 , 22439.07106934, ...,\n",
       "              0.        ,     0.        ,     0.        ]),\n",
       "   'daily_charging_voltage': array([370.66189236, 370.73567708, 370.80946181, ..., 416.17378818,\n",
       "          416.17378818, 416.17378818]),\n",
       "   'daily_time': array([0.00000000e+00, 1.00027785e+00, 2.00055571e+00, ...,\n",
       "          8.63979994e+04, 8.63989997e+04, 8.64000000e+04])},\n",
       "  'PBase': 52.240899212771126},\n",
       " {'name': 'EVcharger_1028',\n",
       "  'data': {'Latitude': array([30.245102]),\n",
       "   'Longitude': array([-97.85699]),\n",
       "   'daily_charging_current': array([47.6125, 47.6125, 47.6125, ...,  0.    ,  0.    ,  0.    ]),\n",
       "   'daily_charging_power': array([17648.13935004, 17651.65242513, 17655.16550022, ...,\n",
       "              0.        ,     0.        ,     0.        ]),\n",
       "   'daily_charging_voltage': array([370.66189236, 370.73567708, 370.80946181, ..., 416.17378818,\n",
       "          416.17378818, 416.17378818]),\n",
       "   'daily_time': array([0.00000000e+00, 1.00027785e+00, 2.00055571e+00, ...,\n",
       "          8.63979994e+04, 8.63989997e+04, 8.64000000e+04])},\n",
       "  'PBase': 108.92396366917227}]"
      ]
     },
     "execution_count": 9,
     "metadata": {},
     "output_type": "execute_result"
    }
   ],
   "source": [
    "DFWCharg_Select"
   ]
  },
  {
   "cell_type": "code",
   "execution_count": 10,
   "id": "495e0bff",
   "metadata": {},
   "outputs": [],
   "source": [
    "# Load the OpenDSS circuit and Add charger station as input to OpenDSS circuit\n",
    "#------------ Define the network with additions of charging stations -------------------------------------\n",
    "def initialize():           \n",
    "    DSSfile = os.path.join(FolderName, \"DSSCircuit\", \"ieee34Mod1.DSS\")  # Construct the path to your DSS file\n",
    "    DSSCktobj = CktModSetup(DSSfile) \n",
    "    #----------------- Storage Allocation --------------------------------------------------\n",
    "    for ChargingStation in StationsInfo:\n",
    "        DSSCktobj.dss.Text.Command(\"New Storage.ChargeStatn\" + str(ChargingStation['no']) + \" bus1=\" + ChargingStation['bus'] + ChargingStation['phaseconn'] + \" phases=\" + str(ChargingStation['numphase']) + \" kv=\" + str(ChargingStation['kV']) + \" kW=\" + str(ChargingStation['kw'])+ \" kWrated=\" + str(ChargingStation['kw']) +\n",
    "                                   \" kWhrated =\" + str(ChargingStation['kwh']) + \" %stored=\" + str(ChargingStation['stored'])+ \" %reserve=\" + str(ChargingStation['reserve']) + \" pf=1 dispmode=follow debugtrace=no Vminpu=0.1 Vmaxpu=10 model=1\")\n",
    "       \n",
    "    DSSCktobj.dss.Solution.Solve() #solving snapshot power flows\n",
    "    if DSSCktobj.dss.Solution.Converged():\n",
    "        conv_flag=1\n",
    "    else:\n",
    "        conv_flag=0    \n",
    "    G_init=graph_struct(DSSCktobj)\n",
    "    return DSSCktobj,G_init,conv_flag"
   ]
  },
  {
   "cell_type": "code",
   "execution_count": 11,
   "id": "081ce606",
   "metadata": {},
   "outputs": [],
   "source": [
    "DSSCktobj,G_init,conv_flag= initialize() "
   ]
  },
  {
   "cell_type": "code",
   "execution_count": 12,
   "id": "ae5d7a43",
   "metadata": {},
   "outputs": [],
   "source": [
    "for i in range(len(StationsInfo)):\n",
    "    elem = 'ChargeStatn'+str(StationsInfo[i]['no'])\n",
    "    charge_P = -1*(DFWCharg_Select[i]['data']['daily_charging_power']/(StationsInfo[i]['kw']*1000)) # converting the charging power to kW, normalizing wrt to max Power and -ve (indicate charging)\n",
    "    charge_time = DFWCharg_Select[i]['data']['daily_time'] # original time steps of charging data\n",
    "    # Create a new shape and assign it to the storage device\n",
    "    shape_name = \"StorageShape\"+str(StationsInfo[i]['no'])\n",
    "    DSSCktobj.dss.LoadShape.New(shape_name)\n",
    "    DSSCktobj.dss.LoadShape.Name(shape_name)\n",
    "    DSSCktobj.dss.LoadShape.Npts(len(charge_P))     # Number of points\n",
    "    DSSCktobj.dss.LoadShape.PMult(charge_P)         # Real power in kW (negative for charging)\n",
    "    DSSCktobj.dss.LoadShape.SInterval(1)   #1 second interval\n",
    "    DSSCktobj.dss.Text.Command(f'Edit Storage.{elem} Daily={shape_name}')\n",
    "DSSCktobj.dss.Solution.Solve()"
   ]
  },
  {
   "cell_type": "code",
   "execution_count": 13,
   "id": "0d947444",
   "metadata": {},
   "outputs": [],
   "source": [
    "# Solve time series powerflow\n",
    "Ttot = 24 # 24 hour siulations\n",
    "DSSCktobj.dss.Text.Command('Set mode=daily') # daily simulation mode\n",
    "DSSCktobj.dss.Text.Command('Set stepsize=5m') # time steps or resolution # This can be changed depending on desired resolution\n",
    "# If you change time step here please also change when you plot.\n",
    "DSSCktobj.dss.Text.Command('Set number=1') # The Solve command solves number of timesteps\n",
    "t = 0\n",
    "\n",
    "V_node_Pre = {}\n",
    "states_Pre = {}\n",
    "powers_Pre = {}\n",
    "for s in StationsInfo:\n",
    "    V_node_Pre[s['bus']]=[]\n",
    "    states_Pre[s['bus']]=[]\n",
    "    powers_Pre[s['bus']]=[]\n",
    "while t<Ttot:\n",
    "        DSSCktobj.dss.Solution.Solve()        \n",
    "        i = DSSCktobj.dss.Storages.First()\n",
    "        while i>0:\n",
    "                bus = StationsInfo[i-1]['bus']\n",
    "                states_Pre[bus].append(DSSCktobj.dss.Storages.State()) # Storage state\n",
    "                powers_Pre[bus].append(sum(DSSCktobj.dss.CktElement.Powers()[::2])) # Circuit element power\n",
    "                # Check Node Voltages            \n",
    "                V=Bus(DSSCktobj,bus).Vmag\n",
    "                V_node_Pre[bus].append(V)\n",
    "                i = DSSCktobj.dss.Storages.Next()\n",
    "        t  = int(DSSCktobj.dss.Solution.DblHour())"
   ]
  },
  {
   "cell_type": "markdown",
   "id": "6eea961f",
   "metadata": {},
   "source": [
    "# Charging Attacks Generation"
   ]
  },
  {
   "cell_type": "code",
   "execution_count": 14,
   "id": "2be34cbe",
   "metadata": {},
   "outputs": [],
   "source": [
    "node_list = list(G_init.nodes())\n",
    "edge_list = list(G_init.edges())\n",
    "peak_start = 9\n",
    "peak_end = 19\n",
    "Scenarios = []\n",
    "Tot_scenarios = 1000"
   ]
  },
  {
   "cell_type": "code",
   "execution_count": 15,
   "id": "d6d4524a",
   "metadata": {},
   "outputs": [],
   "source": [
    "for count in range(Tot_scenarios):\n",
    "    DSSCktobj_Sc,_,conv_flag= initialize() #reset the circuit\n",
    "    \n",
    "    # Number of stations to be attacked selected\n",
    "#     attack_no = random.randint(1,len(StationsInfo))# ALl the stations can be attacked \n",
    "    attack_no = 1\n",
    "    statn_attack = random.sample(range(-1,len(StationsInfo)),attack_no) #Stations to be attacked are randomly picked\n",
    "    statn_attack  = [x for x in statn_attack  if x != -1]\n",
    "    if len(statn_attack) == 0:\n",
    "        anomaly_indicator = 0\n",
    "    else:\n",
    "        anomaly_indicator = 1\n",
    "    \n",
    "    if anomaly_indicator==1:\n",
    "        # The CMA types have been clubbed into 4 (1: type1, 2: type2&3, 3: type4&5, 4: type6)\n",
    "        Types =  range(1,5)\n",
    "        type_attack = random.choice(Types) # randomly select the type of the attack and all the stations in this scenario will be subjected to it    \n",
    "\n",
    "        # Parameters randomly selected for different types of attacks and the attacks are coordinated so the same on different locations simultaneously\n",
    "        attack_mult = random.uniform(1,5) # attack scaling factor for all types\n",
    "        # for type 2 and 3 we need time shift \n",
    "        time_shift = random.choice(range(1,4)) #time shift duration\n",
    "        shift_choice = random.choice([0,1]) #time shift direction 0: left(-ve), 1: right(+ve)\n",
    "        if shift_choice == 0:\n",
    "            time_shift = -1*time_shift \n",
    "        attack_mult2 = random.uniform(1,2) # attack scaling factor for type 6  \n",
    "    else:\n",
    "        type_attack = 0\n",
    "        attack_mult = 1\n",
    "        time_shift  = 0\n",
    "        attack_mult2 = 1\n",
    "    \n",
    "    # Now imposing the attacks on the charging stations\n",
    "    for i in range(len(StationsInfo)):\n",
    "        charge_time = DFWCharg_Select[i]['data']['daily_time'] # original time steps of charging data\n",
    "        charge_P=np.zeros(len(charge_time))\n",
    "        elem = 'ChargeStatn'+str(StationsInfo[i]['no'])\n",
    "        attack_max=StationsInfo[i]['kw']*attack_mult    \n",
    "        if i in statn_attack: #if the attack is on the specific station\n",
    "            # Type 1 \n",
    "            if type_attack==1:\n",
    "                for dindx in range(len(charge_time)): #for each index of charging profile\n",
    "                    # If the charging time is within the attack duration (peak)\n",
    "                        if (charge_time[dindx] > (peak_start*3600)) and (charge_time[dindx] < (peak_end*3600)):\n",
    "                            charge_P[dindx] = -1*attack_mult*(DFWCharg_Select[i]['data']['daily_charging_power'][dindx]/(attack_max*1000)) # converting the charging power to kW, normalizing wrt to max Power and -ve (indicate charging)\n",
    "                        else:\n",
    "                            charge_P[dindx]=-1*(DFWCharg_Select[i]['data']['daily_charging_power'][dindx]/(attack_max*1000))   \n",
    "            \n",
    "            # Type 2 (Shifting peak to right or left and increasing it)\n",
    "            elif type_attack==2:\n",
    "                for dindx in range(len(charge_time)): #for each index of charging profile\n",
    "                    charge_P[dindx]=-1*(DFWCharg_Select[i]['data']['daily_charging_power'][dindx]/(attack_max*1000))  \n",
    "                # Shifting the charging demand to the left or right\n",
    "                charge_P[((peak_start+time_shift)*3600):((peak_end+time_shift)*3600)] = attack_mult*charge_P[(peak_start*3600):(peak_end*3600)]    \n",
    "\n",
    "            # Type 3 (Increasing demand and then shifting)\n",
    "            elif type_attack==3:   \n",
    "                for dindx in range(len(charge_time)): #for each index of charging profile\n",
    "                    # If the charging time is within the attack duration (peak)\n",
    "                        if (charge_time[dindx] > (peak_start*3600)) and (charge_time[dindx] < (peak_end*3600)):\n",
    "                            charge_P[dindx] = -1*attack_mult*(DFWCharg_Select[i]['data']['daily_charging_power'][dindx]/(attack_max*1000)) # converting the charging power to kW, normalizing wrt to max Power and -ve (indicate charging)\n",
    "                        else:\n",
    "                            charge_P[dindx]=-1*(DFWCharg_Select[i]['data']['daily_charging_power'][dindx]/(attack_max*1000))                                                                                               \n",
    "                    # Shifting the charging demand to the right\n",
    "                charge_P[((peak_start+time_shift)*3600):((peak_end+time_shift)*3600)] = charge_P[(peak_start*3600):(peak_end*3600)] \n",
    "\n",
    "            #Type 4\n",
    "            elif type_attack==4:\n",
    "                for dindx in range(len(charge_time)): #for each index of charging profile\n",
    "                    # If the charging time is within the attack duration (peak)\n",
    "                        if (charge_time[dindx] > (peak_start*3600)) and (charge_time[dindx] < (peak_end*3600)):\n",
    "                            charge_P[dindx] = -1*attack_mult*(DFWCharg_Select[i]['data']['daily_charging_power'][dindx]/(attack_max*1000)) # converting the charging power to kW, normalizing wrt to max Power and -ve (indicate charging)\n",
    "                        else:\n",
    "                            charge_P[dindx]=-1*(DFWCharg_Select[i]['data']['daily_charging_power'][dindx]/(attack_max*1000))                                                                                               \n",
    "                    # Shifting the charging demand to the right\n",
    "                charge_P[((peak_start+time_shift)*3600):((peak_end+time_shift)*3600)] = attack_mult2*charge_P[(peak_start*3600):(peak_end*3600)] \n",
    "        \n",
    "            # Change the ratings of station if its attacked to prevent clipping by openDSS (after KWrated(1 pu))\n",
    "            DSSCktobj_Sc.dss.Text.Command(f'Edit Storage.{elem} kW={attack_max} kWrated={attack_max} model=1 Vminpu=0.1 Vmaxpu=10')\n",
    "        \n",
    "        # If station not attacked\n",
    "        else:\n",
    "            charge_P = -1*(DFWCharg_Select[i]['data']['daily_charging_power']/(StationsInfo[i]['kw']*1000)) # converting the charging power to kW, normalizing wrt to max Power and -ve (indicate charging)\n",
    "            \n",
    "        # Create a new shape and assign it to the storage device for the station\n",
    "        shape_name = \"StorageShape\"+str(StationsInfo[i]['no'])\n",
    "        DSSCktobj_Sc.dss.LoadShape.New(shape_name)\n",
    "        DSSCktobj_Sc.dss.LoadShape.Name(shape_name)\n",
    "        DSSCktobj_Sc.dss.LoadShape.Npts(len(charge_P))     # Number of points\n",
    "        DSSCktobj_Sc.dss.LoadShape.PMult(charge_P)         # Real power in kW (negative for charging)\n",
    "        DSSCktobj_Sc.dss.LoadShape.SInterval(1)   # 1 second interval\n",
    "        DSSCktobj_Sc.dss.Text.Command(f'Edit Storage.{elem} Daily={shape_name}')\n",
    "    DSSCktobj_Sc.dss.Solution.Solve() \n",
    "\n",
    "    # Solve time series powerflow\n",
    "    Ttot = 24 # 24 hour siulations\n",
    "    DSSCktobj_Sc.dss.Text.Command('Set mode=daily') # daily simulation mode\n",
    "    DSSCktobj_Sc.dss.Text.Command('Set stepsize=5m') # resolution or time steps # This can be changed depending on desired resolution\n",
    "    # If you change time step here please also change when you plot.\n",
    "    DSSCktobj_Sc.dss.Text.Command('Set number=1') # The Solve command solves number of timesteps\n",
    "    t = 0\n",
    "\n",
    "    V_node_Sc = {bus: [] for bus in node_list}\n",
    "    flow_branch_Sc= {br: [] for br in edge_list}\n",
    "    powers_Sc = {station['bus']:[] for station in StationsInfo}\n",
    "    while t<Ttot:\n",
    "            DSSCktobj_Sc.dss.Solution.Solve()        \n",
    "            # Get Node Voltages\n",
    "            for bus in node_list:\n",
    "                V=Bus(DSSCktobj_Sc,bus).Vmag\n",
    "                V_node_Sc[bus].append(V)\n",
    "            # Get branchflows  \n",
    "            for (u,v) in edge_list:\n",
    "                Power_br=0\n",
    "                branchelems = G_init[u][v]['label']\n",
    "                for b in branchelems:\n",
    "                    branchflow = Branch(DSSCktobj_Sc,b).flow\n",
    "                    Power_br =Power_br + sum(branchflow)\n",
    "                flow_branch_Sc[(u,v)].append(Power_br)\n",
    "            # Get storage powers  \n",
    "            i = DSSCktobj_Sc.dss.Storages.First()\n",
    "            while i>0:\n",
    "                    sbus = StationsInfo[i-1]['bus']\n",
    "                    powers_Sc[sbus].append(sum(DSSCktobj_Sc.dss.CktElement.Powers()[::2])) # Circuit element power\n",
    "                    i = DSSCktobj_Sc.dss.Storages.Next()\n",
    "\n",
    "            t  = int(DSSCktobj_Sc.dss.Solution.DblHour())      \n",
    "    Scenario_Info ={'Anomaly':anomaly_indicator, 'Stations Attacked':statn_attack, 'Type':type_attack, 'Bus Voltages':  V_node_Sc, 'Branch flows':flow_branch_Sc, 'Charging Powers':powers_Sc} \n",
    "    Scenarios.append(Scenario_Info)"
   ]
  },
  {
   "cell_type": "code",
   "execution_count": 16,
   "id": "e92eabc9",
   "metadata": {},
   "outputs": [],
   "source": [
    "with open(FolderName+ './WeekdayScenarios.pkl', 'wb') as file:\n",
    "    pickle.dump(Scenarios, file)"
   ]
  },
  {
   "cell_type": "code",
   "execution_count": 17,
   "id": "6330329e",
   "metadata": {},
   "outputs": [
    {
     "data": {
      "text/plain": [
       "1000"
      ]
     },
     "execution_count": 17,
     "metadata": {},
     "output_type": "execute_result"
    }
   ],
   "source": [
    "len(Scenarios)"
   ]
  },
  {
   "cell_type": "code",
   "execution_count": null,
   "id": "9695afcb",
   "metadata": {},
   "outputs": [],
   "source": []
  }
 ],
 "metadata": {
  "kernelspec": {
   "display_name": "Python 3 (ipykernel)",
   "language": "python",
   "name": "python3"
  },
  "language_info": {
   "codemirror_mode": {
    "name": "ipython",
    "version": 3
   },
   "file_extension": ".py",
   "mimetype": "text/x-python",
   "name": "python",
   "nbconvert_exporter": "python",
   "pygments_lexer": "ipython3",
   "version": "3.9.12"
  }
 },
 "nbformat": 4,
 "nbformat_minor": 5
}
