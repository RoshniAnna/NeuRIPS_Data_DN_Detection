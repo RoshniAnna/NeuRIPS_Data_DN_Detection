{
 "cells": [
  {
   "cell_type": "code",
   "execution_count": 1,
   "id": "0a79f9b3",
   "metadata": {},
   "outputs": [],
   "source": [
    "import os\n",
    "from DSSCircuit_Interface import * \n",
    "import networkx as nx"
   ]
  },
  {
   "cell_type": "code",
   "execution_count": 2,
   "id": "e808a977",
   "metadata": {},
   "outputs": [],
   "source": [
    "FolderName=os.path.dirname(os.path.realpath(\"__file__\"))\n",
    "d_obj= DSS(r\"\"+ FolderName+ \"\\ieee37.dss\")  #creating a DSS object instance"
   ]
  },
  {
   "cell_type": "code",
   "execution_count": 3,
   "id": "3affd425",
   "metadata": {},
   "outputs": [],
   "source": [
    "d_obj.compile_ckt_dss() #compiling the circuit\n",
    "d_obj.solve_snapshot_dss(1.0) #solving snapshot power flow"
   ]
  },
  {
   "cell_type": "code",
   "execution_count": 4,
   "id": "20fa2660",
   "metadata": {},
   "outputs": [],
   "source": [
    "edges_dictlist=[]\n",
    "G_original=nx.Graph()\n",
    "for e in d_obj.get_AllPDElements():\n",
    "    if ((e.split('.')[0]=='Line') or (e.split('.')[0]=='Transformer')): #only if its a line or transformer used in graph(capacitors avoided)\n",
    "        branch_obj=Branch(d_obj,e) #creating  a branch object instance with full name\n",
    "        sr_node=branch_obj.bus_fr.split('.')[0] #extracting source bus of branch\n",
    "        tar_node=branch_obj.bus_to.split('.')[0] #extracting target bus of branch\n",
    "        name=e.split('.')[1] #getting the name of the element(label or id)\n",
    "        el_type=e.split('.')[0] #getting the type of the element (line or transformer)\n",
    "        numphases=branch_obj.nphases #extracting number of phases of branch\n",
    "        Inorm=branch_obj.Cap #extracting the baseflow current flow in branch\n",
    "        Imax=branch_obj.MaxCap #extracting the maximum permissible current flow in branch\n",
    "        Iresid=Imax-Inorm #residual current flow in branch\n",
    "        if el_type== 'Line':\n",
    "            R,X=d_obj.get_Line_RX(name)\n",
    "        else:\n",
    "            R,X=d_obj.get_Transformer_RX(name)\n",
    "        edges_dictlist.append({\"source\":sr_node, \"target\":tar_node, \"label\":name, \"device\":el_type, \"resistance\":R, \"reactance\":X, \"phases\":numphases,\"maxcap\":Imax,\"cap\":Inorm,\"residue\":Iresid})\n",
    "        G_original.add_edge(sr_node, tar_node, label=name, device=el_type, resistance=R, reactance=X, phases=numphases,maxcap=Imax,cap=Inorm,residue=Iresid)"
   ]
  },
  {
   "cell_type": "code",
   "execution_count": 5,
   "id": "e7c8b382",
   "metadata": {},
   "outputs": [],
   "source": [
    "buses=list(d_obj.get_AllBuses())\n",
    "loads=d_obj.get_AllLoads()\n",
    "buses.remove('sourcebus') #sourcebus not in 8500"
   ]
  },
  {
   "cell_type": "code",
   "execution_count": 6,
   "id": "90f43261",
   "metadata": {},
   "outputs": [],
   "source": [
    "for b in buses:\n",
    "    P_sum=0\n",
    "    Q_sum=0\n",
    "    for j in range(len(loads)):\n",
    "        if loads[j][\"Bus\"]==b:\n",
    "            P_sum=P_sum+loads[j].get(\"Pload\")\n",
    "            Q_sum=Q_sum+loads[j].get(\"Qload\")\n",
    "    G_original.nodes[b][\"Device\"]=\"Bus\"\n",
    "    G_original.nodes[b][\"ActiveLoad\"]=P_sum\n",
    "    G_original.nodes[b][\"ReactiveLoad\"]=Q_sum"
   ]
  },
  {
   "cell_type": "code",
   "execution_count": 7,
   "id": "68996415",
   "metadata": {},
   "outputs": [
    {
     "data": {
      "text/plain": [
       "EdgeDataView([('sourcebus', '799', {'label': 'subxf', 'device': 'Transformer', 'resistance': 9.216, 'reactance': 73.728, 'phases': 3, 'maxcap': 9.413319606352593, 'cap': 7.651991544342297, 'residue': 1.7613280620102953}), ('799', '799r', {'label': 'jumper', 'device': 'Line', 'resistance': 0.0003333333333333333, 'reactance': 0.0, 'phases': 1, 'maxcap': 600.0, 'cap': 0.0001791344731288204, 'residue': 599.9998208655269}), ('709', '775', {'label': 'xfm1', 'device': 'Transformer', 'resistance': 0.020735999999999997, 'reactance': 0.834048, 'phases': 3, 'maxcap': 90.21097956087903, 'cap': 3.9196186284099354e-05, 'residue': 90.21094036469275}), ('709', '731', {'label': 'l16', 'device': 'Line', 'resistance': 0.0930568182, 'reactance': 0.053064394000000015, 'phases': 3, 'maxcap': 600.0, 'cap': 13.101496206060945, 'residue': 586.8985037939391}), ('709', '708', {'label': 'l17', 'device': 'Line', 'resistance': 0.04963030303999999, 'reactance': 0.02830101013333334, 'phases': 3, 'maxcap': 600.0, 'cap': 98.71379150349067, 'residue': 501.28620849650935}), ('709', '730', {'label': 'l27', 'device': 'Line', 'resistance': 0.031018939399999997, 'reactance': 0.017688131333333336, 'phases': 3, 'maxcap': 600.0, 'cap': 107.52590282021458, 'residue': 492.4740971797854}), ('701', '702', {'label': 'l1', 'device': 'Line', 'resistance': 0.05756363648, 'reactance': 0.059896969280000004, 'phases': 3, 'maxcap': 600.0, 'cap': 248.24061378229374, 'residue': 351.75938621770626}), ('701', '799r', {'label': 'l35', 'device': 'Line', 'resistance': 0.07959438150000002, 'reactance': 0.08174337048333336, 'phases': 3, 'maxcap': 600.0, 'cap': 335.13957573937745, 'residue': 264.86042426062255}), ('702', '705', {'label': 'l2', 'device': 'Line', 'resistance': 0.12029797986666668, 'reactance': 0.03867424226666666, 'phases': 3, 'maxcap': 600.0, 'cap': 25.54130058525016, 'residue': 574.4586994147498}), ('702', '713', {'label': 'l3', 'device': 'Line', 'resistance': 0.05583409091999999, 'reactance': 0.031838636399999995, 'phases': 3, 'maxcap': 600.0, 'cap': 73.36381548963031, 'residue': 526.6361845103697}), ('702', '703', {'label': 'l4', 'device': 'Line', 'resistance': 0.07915000016000001, 'reactance': 0.08235833276000001, 'phases': 3, 'maxcap': 600.0, 'cap': 153.89712845815816, 'residue': 446.10287154184186}), ('705', '742', {'label': 'l9', 'device': 'Line', 'resistance': 0.09623838389333336, 'reactance': 0.030939393813333334, 'phases': 3, 'maxcap': 600.0, 'cap': 14.126113273830265, 'residue': 585.8738867261698}), ('705', '712', {'label': 'l10', 'device': 'Line', 'resistance': 0.07217878792, 'reactance': 0.023204545360000002, 'phases': 3, 'maxcap': 600.0, 'cap': 13.482793572752042, 'residue': 586.517206427248}), ('713', '704', {'label': 'l22', 'device': 'Line', 'resistance': 0.08064924243999999, 'reactance': 0.04598914146666667, 'phases': 3, 'maxcap': 600.0, 'cap': 61.965893972193975, 'residue': 538.034106027806}), ('703', '727', {'label': 'l5', 'device': 'Line', 'resistance': 0.07217878792, 'reactance': 0.023204545360000002, 'phases': 3, 'maxcap': 600.0, 'cap': 35.18448350117668, 'residue': 564.8155164988233}), ('703', '730', {'label': 'l6', 'device': 'Line', 'resistance': 0.0930568182, 'reactance': 0.053064394000000015, 'phases': 3, 'maxcap': 600.0, 'cap': 118.88032258903603, 'residue': 481.11967741096396}), ('727', '744', {'label': 'l26', 'device': 'Line', 'resistance': 0.04342651516, 'reactance': 0.02476338386666667, 'phases': 3, 'maxcap': 600.0, 'cap': 29.581341118417274, 'residue': 570.4186588815827}), ('704', '714', {'label': 'l7', 'device': 'Line', 'resistance': 0.02405959597333334, 'reactance': 0.0077348484533333334, 'phases': 3, 'maxcap': 600.0, 'cap': 17.981478406737022, 'residue': 582.018521593263}), ('704', '720', {'label': 'l8', 'device': 'Line', 'resistance': 0.12407575759999999, 'reactance': 0.07075252533333334, 'phases': 3, 'maxcap': 600.0, 'cap': 48.321963979442636, 'residue': 551.6780360205573}), ('714', '718', {'label': 'l23', 'device': 'Line', 'resistance': 0.15638737382666665, 'reactance': 0.050276514946666656, 'phases': 3, 'maxcap': 600.0, 'cap': 12.796817926879784, 'residue': 587.2031820731202}), ('720', '707', {'label': 'l24', 'device': 'Line', 'resistance': 0.27668535369333336, 'reactance': 0.08895075721333334, 'phases': 3, 'maxcap': 600.0, 'cap': 30.6510484273757, 'residue': 569.3489515726243}), ('720', '706', {'label': 'l25', 'device': 'Line', 'resistance': 0.0930568182, 'reactance': 0.053064394000000015, 'phases': 3, 'maxcap': 600.0, 'cap': 6.49628325384456, 'residue': 593.5037167461554}), ('706', '725', {'label': 'l11', 'device': 'Line', 'resistance': 0.08420858590666667, 'reactance': 0.027071969586666675, 'phases': 3, 'maxcap': 600.0, 'cap': 6.494825056406804, 'residue': 593.5051749435931}), ('707', '724', {'label': 'l12', 'device': 'Line', 'resistance': 0.22856616174666672, 'reactance': 0.07348106030666668, 'phases': 3, 'maxcap': 600.0, 'cap': 6.515995474571579, 'residue': 593.4840045254284}), ('707', '722', {'label': 'l13', 'device': 'Line', 'resistance': 0.03608939396, 'reactance': 0.011602272680000001, 'phases': 3, 'maxcap': 600.0, 'cap': 24.18204277691915, 'residue': 575.8179572230808}), ('708', '733', {'label': 'l14', 'device': 'Line', 'resistance': 0.04963030303999999, 'reactance': 0.02830101013333334, 'phases': 3, 'maxcap': 600.0, 'cap': 92.560529781784, 'residue': 507.439470218216}), ('708', '732', {'label': 'l15', 'device': 'Line', 'resistance': 0.09623838389333336, 'reactance': 0.030939393813333334, 'phases': 3, 'maxcap': 600.0, 'cap': 6.839232294715093, 'residue': 593.1607677052849}), ('733', '734', {'label': 'l28', 'device': 'Line', 'resistance': 0.08685303032, 'reactance': 0.04952676773333334, 'phases': 3, 'maxcap': 600.0, 'cap': 80.48075581152024, 'residue': 519.5192441884798}), ('710', '735', {'label': 'l18', 'device': 'Line', 'resistance': 0.06014898993333334, 'reactance': 0.01933712113333333, 'phases': 3, 'maxcap': 600.0, 'cap': 13.68369320891397, 'residue': 586.316306791086}), ('710', '736', {'label': 'l19', 'device': 'Line', 'resistance': 0.38495353557333345, 'reactance': 0.12375757525333334, 'phases': 3, 'maxcap': 600.0, 'cap': 6.514533796140477, 'residue': 593.4854662038596}), ('710', '734', {'label': 'l30', 'device': 'Line', 'resistance': 0.15638737382666665, 'reactance': 0.050276514946666656, 'phases': 3, 'maxcap': 600.0, 'cap': 18.983133263509746, 'residue': 581.0168667364902}), ('711', '741', {'label': 'l20', 'device': 'Line', 'resistance': 0.062037878799999994, 'reactance': 0.03537626266666667, 'phases': 3, 'maxcap': 600.0, 'cap': 6.822202523576254, 'residue': 593.1777974764237}), ('711', '740', {'label': 'l21', 'device': 'Line', 'resistance': 0.06014898993333334, 'reactance': 0.01933712113333333, 'phases': 3, 'maxcap': 600.0, 'cap': 13.642490915781849, 'residue': 586.3575090842181}), ('711', '738', {'label': 'l32', 'device': 'Line', 'resistance': 0.062037878799999994, 'reactance': 0.03537626266666667, 'phases': 3, 'maxcap': 600.0, 'cap': 20.464972080602006, 'residue': 579.535027919398}), ('744', '728', {'label': 'l33', 'device': 'Line', 'resistance': 0.06014898993333334, 'reactance': 0.01933712113333333, 'phases': 3, 'maxcap': 600.0, 'cap': 17.261807108963307, 'residue': 582.7381928910366}), ('744', '729', {'label': 'l34', 'device': 'Line', 'resistance': 0.08420858590666667, 'reactance': 0.027071969586666675, 'phases': 3, 'maxcap': 600.0, 'cap': 6.491661088335207, 'residue': 593.5083389116647}), ('734', '737', {'label': 'l29', 'device': 'Line', 'resistance': 0.09926060607999998, 'reactance': 0.05660202026666668, 'phases': 3, 'maxcap': 600.0, 'cap': 58.32474305459585, 'residue': 541.6752569454042}), ('737', '738', {'label': 'l31', 'device': 'Line', 'resistance': 0.062037878799999994, 'reactance': 0.03537626266666667, 'phases': 3, 'maxcap': 600.0, 'cap': 37.794097406748726, 'residue': 562.2059025932513})])"
      ]
     },
     "execution_count": 7,
     "metadata": {},
     "output_type": "execute_result"
    }
   ],
   "source": [
    "G_original.edges(data=True)"
   ]
  },
  {
   "cell_type": "code",
   "execution_count": 8,
   "id": "d16e9440",
   "metadata": {},
   "outputs": [],
   "source": [
    "nx.readwrite.gml.write_gml(G_original,\"37busEx.gml\")"
   ]
  }
 ],
 "metadata": {
  "kernelspec": {
   "display_name": "Python 3 (ipykernel)",
   "language": "python",
   "name": "python3"
  },
  "language_info": {
   "codemirror_mode": {
    "name": "ipython",
    "version": 3
   },
   "file_extension": ".py",
   "mimetype": "text/x-python",
   "name": "python",
   "nbconvert_exporter": "python",
   "pygments_lexer": "ipython3",
   "version": "3.9.12"
  }
 },
 "nbformat": 4,
 "nbformat_minor": 5
}
