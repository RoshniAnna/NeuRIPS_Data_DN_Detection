{
 "cells": [
  {
   "cell_type": "code",
   "execution_count": 1,
   "id": "89d332e1",
   "metadata": {},
   "outputs": [],
   "source": [
    "import os\n",
    "import pandas as pd\n",
    "from GraphBuild import * \n",
    "import matplotlib.pyplot as plt\n",
    "import random\n",
    "import pickle"
   ]
  },
  {
   "cell_type": "code",
   "execution_count": 2,
   "id": "1a16aaa9",
   "metadata": {},
   "outputs": [],
   "source": [
    "# Initialize Circuit\n",
    "FolderName = os.path.dirname(os.path.realpath(\"__file__\"))\n",
    "DSSfile = r\"\"+ FolderName+ \"\\ieee34Mod1.dss\"\n",
    "Ckt_obj = CircuitSetup(DSSfile)  #creating a DSS object instance"
   ]
  },
  {
   "cell_type": "code",
   "execution_count": 3,
   "id": "d10a36ba",
   "metadata": {},
   "outputs": [],
   "source": [
    "G_original =  build_graph(Ckt_obj)\n",
    "nx.readwrite.gml.write_gml(G_original,\"34busEx.gml\") #Graph undirected with edge features and node features which are constant\n",
    "node_list=list(G_original.nodes())\n",
    "edge_list=list(G_original.edges())"
   ]
  },
  {
   "cell_type": "code",
   "execution_count": 4,
   "id": "7c3fa2de",
   "metadata": {},
   "outputs": [],
   "source": [
    "input_file = 'LoadShape1.xlsx'\n",
    "sheet_name = 'LoadShape1'  # Change to the sheet you want to split\n",
    "df = pd.read_excel(input_file, sheet_name=sheet_name)\n",
    "\n",
    "points_per_day = 24  # Assuming 1-hour resolution (24 points = 24 hours)\n",
    "# Convert to flat list\n",
    "loadshape_values = df.iloc[:, 0].values.tolist()\n",
    "# Check total number of complete days available\n",
    "num_days = len(loadshape_values) // points_per_day\n",
    "# Slice the loadshape into daily\n",
    "LoadShapes = []\n",
    "for i in range(num_days):\n",
    "    start_idx = i * points_per_day\n",
    "    end_idx = (i + 1) * points_per_day\n",
    "    daily_shape = loadshape_values[start_idx:end_idx]\n",
    "    LoadShapes.append(daily_shape)"
   ]
  },
  {
   "cell_type": "code",
   "execution_count": 5,
   "id": "dcb3ec10",
   "metadata": {},
   "outputs": [],
   "source": [
    "Scenarios  = []\n",
    "scid = 0\n",
    "### Scenario generation\n",
    "NSc = 1 # parameter indicating no.of scenarios for each"
   ]
  },
  {
   "cell_type": "markdown",
   "id": "0c0fa10c",
   "metadata": {},
   "source": [
    "### Select random loadshape and a multiplier and Evaluate the circuit at the snapshot"
   ]
  },
  {
   "cell_type": "code",
   "execution_count": 249,
   "id": "f33bd409",
   "metadata": {},
   "outputs": [],
   "source": [
    "Ckt_obj = CircuitSetup(DSSfile)"
   ]
  },
  {
   "cell_type": "code",
   "execution_count": 8,
   "id": "33ef4a89",
   "metadata": {},
   "outputs": [],
   "source": [
    "loadshape_day = random.choice(LoadShapes)"
   ]
  },
  {
   "cell_type": "code",
   "execution_count": 9,
   "id": "92412fa2",
   "metadata": {},
   "outputs": [],
   "source": [
    "ldmult = random.choice(loadshape_day)"
   ]
  },
  {
   "cell_type": "code",
   "execution_count": 10,
   "id": "451cef2f",
   "metadata": {},
   "outputs": [
    {
     "data": {
      "text/plain": [
       "0.589268250260193"
      ]
     },
     "execution_count": 10,
     "metadata": {},
     "output_type": "execute_result"
    }
   ],
   "source": [
    "ldmult "
   ]
  },
  {
   "cell_type": "code",
   "execution_count": 11,
   "id": "08c0e2c8",
   "metadata": {},
   "outputs": [],
   "source": [
    "Ckt_obj.dss.Solution.LoadMult(ldmult)\n",
    "Ckt_obj.dss.Solution.Solve()"
   ]
  },
  {
   "cell_type": "code",
   "execution_count": 237,
   "id": "c72e8dbd",
   "metadata": {},
   "outputs": [],
   "source": [
    "MAX_RADIUS_FRAC = 1 / 3\n",
    "MAX_OUTAGE_PERC = 0.4"
   ]
  },
  {
   "cell_type": "code",
   "execution_count": 13,
   "id": "129fad9d",
   "metadata": {},
   "outputs": [],
   "source": [
    "# Function to generate outage scenario\n",
    "def generate_outage_edges(G, max_rad_frac=MAX_RADIUS_FRAC, max_percfail=MAX_OUTAGE_PERC):\n",
    "    nd = random.choice(list(G.nodes()))\n",
    "    max_rad = nx.diameter(G)\n",
    "    rad = math.ceil(random.uniform(1, max_rad * max_rad_frac))  # ensure radius >= 1\n",
    "    Gsub = nx.ego_graph(G, nd, radius=rad, undirected=False)\n",
    "    sub_edges = list(Gsub.edges())\n",
    "    if not sub_edges:\n",
    "        return generate_outage_edges(G)  # Retry if no edges in subgraph\n",
    "    out_perc = random.uniform(0.1, max_percfail)\n",
    "    N_out = max(1, math.ceil(len(sub_edges) * out_perc))\n",
    "    out_edges = random.sample(sub_edges, k=N_out)\n",
    "    return out_edges"
   ]
  },
  {
   "cell_type": "code",
   "execution_count": 238,
   "id": "4acc3b25",
   "metadata": {},
   "outputs": [],
   "source": [
    "outage_edges = generate_outage_edges(G_original)\n",
    "outage_lines = []\n",
    "outage_types = []"
   ]
  },
  {
   "cell_type": "code",
   "execution_count": 252,
   "id": "7c3508cd",
   "metadata": {},
   "outputs": [],
   "source": [
    "for from_node, to_node in outage_edges:\n",
    "    edge_data = G_original.get_edge_data(from_node, to_node)\n",
    "    outageelem = f\"{edge_data['Device']}.{edge_data['Label']}\"\n",
    "    if edge_data['Device'] == 'line':\n",
    "        outage_lines.append(outageelem)\n",
    "        Ckt_obj.dss.Circuit.SetActiveElement(outageelem)\n",
    "        active_phases = Ckt_obj.dss.CktElement.NodeOrder()[:len(Ckt_obj.dss.CktElement.NodeOrder())//2]\n",
    "        phase_indic = random.randint(1,len(active_phases))\n",
    "        if phase_indic == 3: #3 phase\n",
    "                Ckt_obj.dss.CktElement.Open(1,0)\n",
    "                outage_types.append('3 ph')                \n",
    "        if phase_indic == 1: #1 phase\n",
    "                phx = random.choice(active_phases)\n",
    "                Ckt_obj.dss.CktElement.Open(1,phx)\n",
    "                outage_types.append('1 ph')                \n",
    "        if phase_indic == 2: #2 phase\n",
    "                [phx,phy] = random.sample(active_phases, 2)\n",
    "                Ckt_obj.dss.CktElement.Open(1,phx)\n",
    "                Ckt_obj.dss.CktElement.Open(1,phy)\n",
    "                outage_types.append('2 ph')  \n",
    "        Ckt_obj.dss.Solution.Solve()"
   ]
  },
  {
   "cell_type": "code",
   "execution_count": 253,
   "id": "d1164fe5",
   "metadata": {},
   "outputs": [],
   "source": [
    "for bus in node_list:\n",
    "    break\n",
    "V=Bus(Ckt_obj,bus).Vmag"
   ]
  },
  {
   "cell_type": "code",
   "execution_count": 254,
   "id": "f6d01e2f",
   "metadata": {},
   "outputs": [
    {
     "data": {
      "text/plain": [
       "array([1.05000022, 1.04999967, 1.05000004])"
      ]
     },
     "execution_count": 254,
     "metadata": {},
     "output_type": "execute_result"
    }
   ],
   "source": [
    "V"
   ]
  },
  {
   "cell_type": "code",
   "execution_count": 255,
   "id": "d305bcdd",
   "metadata": {},
   "outputs": [],
   "source": [
    "V_node_Sc = {}\n",
    "for bus in node_list:\n",
    "        V=Bus(Ckt_obj,bus).Vmag\n",
    "        V_node_Sc[bus] = V    "
   ]
  },
  {
   "cell_type": "code",
   "execution_count": null,
   "id": "bc796181",
   "metadata": {},
   "outputs": [],
   "source": [
    "flow_branch_Sc = {}  \n",
    "for (u,v) in edge_list:\n",
    "    branch_label = G_original[u][v]['Label']\n",
    "    branch_device = G_original[u][v]['Device']\n",
    "    branch_elem = f\"{branch_device}.{branch_label}\"\n",
    "    branch_pflow = Branch(Ckt_obj,branch_elem).flow\n",
    "    flow_branch_Sc[(u,v)] = np.sum(branch_pflow)"
   ]
  }
 ],
 "metadata": {
  "kernelspec": {
   "display_name": "Python 3 (ipykernel)",
   "language": "python",
   "name": "python3"
  },
  "language_info": {
   "codemirror_mode": {
    "name": "ipython",
    "version": 3
   },
   "file_extension": ".py",
   "mimetype": "text/x-python",
   "name": "python",
   "nbconvert_exporter": "python",
   "pygments_lexer": "ipython3",
   "version": "3.9.12"
  }
 },
 "nbformat": 4,
 "nbformat_minor": 5
}
