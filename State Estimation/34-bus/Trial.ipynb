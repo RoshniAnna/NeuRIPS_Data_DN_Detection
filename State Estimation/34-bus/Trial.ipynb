{
 "cells": [
  {
   "cell_type": "code",
   "execution_count": 1,
   "id": "474f1d98",
   "metadata": {},
   "outputs": [],
   "source": [
    "import os\n",
    "import pandas as pd\n",
    "from GraphBuild import * \n",
    "import matplotlib.pyplot as plt\n",
    "import random\n",
    "import pickle"
   ]
  },
  {
   "cell_type": "code",
   "execution_count": 2,
   "id": "662e745b",
   "metadata": {},
   "outputs": [],
   "source": [
    "# Initialize Circuit\n",
    "FolderName = os.path.dirname(os.path.realpath(\"__file__\"))\n",
    "DSSfile = r\"\"+ FolderName+ \"\\ieee34Mod1.dss\"\n",
    "Ckt_obj = CircuitSetup(DSSfile)  #creating a DSS object instance"
   ]
  },
  {
   "cell_type": "code",
   "execution_count": 3,
   "id": "977a5faf",
   "metadata": {},
   "outputs": [],
   "source": [
    "#-- Equivalent Graph\n",
    "G_original =  build_graph(Ckt_obj)\n",
    "nx.readwrite.gml.write_gml(G_original,\"34busEx.gml\") #Graph undirected with edge features and node features which are constant\n",
    "node_list=list(G_original.nodes())\n",
    "edge_list=list(G_original.edges())"
   ]
  },
  {
   "cell_type": "code",
   "execution_count": 4,
   "id": "d27b9b3c",
   "metadata": {},
   "outputs": [],
   "source": [
    "### Read Sensors\n",
    "with open('bus_sensors.pkl', 'rb') as f1:\n",
    "     bus_sensors = pickle.load(f1)\n",
    "\n",
    "with open('branch_sensors.pkl', 'rb') as f2:\n",
    "     branch_sensors = pickle.load(f2)"
   ]
  },
  {
   "cell_type": "code",
   "execution_count": 5,
   "id": "d4be8e92",
   "metadata": {},
   "outputs": [],
   "source": [
    "### Loadshapes Restructure\n",
    "input_file = 'LoadShape1.xlsx'\n",
    "sheet_name = 'LoadShape1'  # Change to the sheet you want to split\n",
    "df = pd.read_excel(input_file, sheet_name=sheet_name)\n",
    "\n",
    "points_per_day = 24  # Assuming 1-hour resolution (24 points = 24 hours)\n",
    "# Convert to flat list\n",
    "loadshape_values = df.iloc[:, 0].values.tolist()\n",
    "# Check total number of complete days available\n",
    "num_days = len(loadshape_values) // points_per_day\n",
    "# Slice the loadshape into daily\n",
    "LoadShapes = []\n",
    "for i in range(num_days):\n",
    "    start_idx = i * points_per_day\n",
    "    end_idx = (i + 1) * points_per_day\n",
    "    daily_shape = loadshape_values[start_idx:end_idx]\n",
    "    LoadShapes.append(daily_shape)"
   ]
  },
  {
   "cell_type": "code",
   "execution_count": 6,
   "id": "7bacd77c",
   "metadata": {},
   "outputs": [
    {
     "name": "stdout",
     "output_type": "stream",
     "text": [
      "0\n"
     ]
    }
   ],
   "source": [
    "Scenarios  = []\n",
    "scid = 0\n",
    "### Scenario generation\n",
    "NSc = 1 # parameter indicating no.of scenarios for each\n",
    "\n",
    "for idx in range(NSc):\n",
    "    print(scid)\n",
    "    loadshape_day = random.choice(LoadShapes)\n",
    "    ldmult = random.choice(loadshape_day)\n",
    "    Ckt_obj.dss.Solution.LoadMult(ldmult)\n",
    "    Ckt_obj.dss.Solution.Solve()\n",
    "    V_node_Sc = {}\n",
    "    V_unknown = {}\n",
    "    for bus in bus_sensors:\n",
    "        V=Bus(Ckt_obj,bus).Vmag\n",
    "        V_node_Sc[bus] = V  \n",
    "            \n",
    "    for bus in node_list:\n",
    "        if bus not in bus_sensors:\n",
    "            V=Bus(Ckt_obj,bus).Vmag\n",
    "            V_unknown[bus] = V  \n",
    "            \n",
    "    flow_branch_Sc = {}  \n",
    "    for (u,v) in branch_sensors:\n",
    "        branch_label = G_original[u][v]['Label']\n",
    "        branch_device = G_original[u][v]['Device']\n",
    "        branch_elem = f\"{branch_device}.{branch_label}\"\n",
    "        branch_pflow = Branch(Ckt_obj,branch_elem).flow\n",
    "        flow_branch_Sc[(u,v)] = np.sum(branch_pflow)\n",
    "        \n",
    "    Scenarios.append({'Index':scid, 'Sensor BusVoltages':V_node_Sc, 'Sensor BranchFlows':flow_branch_Sc, 'Unknown BusVoltages':V_unknown})\n",
    "    scid = scid + 1\n"
   ]
  },
  {
   "cell_type": "code",
   "execution_count": 18,
   "id": "807dc40a",
   "metadata": {},
   "outputs": [
    {
     "data": {
      "text/plain": [
       "[{'Index': 0,\n",
       "  'Sensor BusVoltages': {'810': array([0.        , 1.03653855, 0.        ]),\n",
       "   '808': array([1.02566842, 1.03665141, 1.03657561]),\n",
       "   '816': array([1.0293372 , 1.03263755, 1.03004372]),\n",
       "   '848': array([1.0290516 , 1.03919763, 1.03833457]),\n",
       "   '826': array([0.        , 1.02589435, 0.        ]),\n",
       "   '854': array([1.01001685, 1.01358723, 1.01184666]),\n",
       "   '832': array([1.03221329, 1.04264703, 1.04116799]),\n",
       "   '850': array([1.02961923, 1.03281153, 1.03022375]),\n",
       "   '806': array([1.0471536 , 1.04829592, 1.04834799]),\n",
       "   'sourcebus': array([1.0499979 , 1.04999876, 1.04999868]),\n",
       "   '840': array([1.02833783, 1.03865588, 1.03767445]),\n",
       "   '846': array([1.02900956, 1.03916103, 1.03828306]),\n",
       "   '890': array([0.94086954, 0.95742814, 0.95013885]),\n",
       "   '862': array([1.02835584, 1.03866697, 1.03769807]),\n",
       "   '860': array([1.0285136 , 1.03896302, 1.03780189])},\n",
       "  'Sensor BranchFlows': {('860', '836'): 106.47070670905997,\n",
       "   ('814', '814r'): 424.97082933788437,\n",
       "   ('812', '814'): 1414.0648313994532,\n",
       "   ('888', '890'): 347.907311106095,\n",
       "   ('814r', '850'): 1393.6818440889003,\n",
       "   ('828', '830'): 1212.787343562509,\n",
       "   ('862', '838'): 10.766201060181826,\n",
       "   ('830', '854'): 1159.702242352201,\n",
       "   ('808', '812'): 1439.6332367624645,\n",
       "   ('820', '822'): 52.02058786449594,\n",
       "   ('834', '842'): 439.8273801155238,\n",
       "   ('sourcebus', '800'): 1520.1460641425106,\n",
       "   ('842', '844'): 436.309434359253,\n",
       "   ('824', '828'): 1217.6372704741796,\n",
       "   ('844', '846'): 81.5127006621754},\n",
       "  'Unknown BusVoltages': {'800': array([1.04999707, 1.04999786, 1.04999917]),\n",
       "   '802': array([1.04829852, 1.04895754, 1.04899832]),\n",
       "   '812': array([1.00064098, 1.02394107, 1.0225393 ]),\n",
       "   '814': array([0.98072638, 1.0138823 , 1.0113225 ]),\n",
       "   '814r': array([1.02962833, 1.03281714, 1.03022956]),\n",
       "   '818': array([1.02863861, 0.        , 0.        ]),\n",
       "   '824': array([1.02311942, 1.02604455, 1.024305  ]),\n",
       "   '820': array([1.01079186, 0.        , 0.        ]),\n",
       "   '822': array([1.00849995, 0.        , 0.        ]),\n",
       "   '828': array([1.02261089, 1.02556543, 1.02382137]),\n",
       "   '830': array([1.01031326, 1.0138783 , 1.01213095]),\n",
       "   '858': array([1.03064849, 1.0410971 , 1.03972881]),\n",
       "   '834': array([1.02884805, 1.03928592, 1.03808851]),\n",
       "   '842': array([1.02882313, 1.03924856, 1.03806628]),\n",
       "   '836': array([1.02835684, 1.03868064, 1.03769489]),\n",
       "   '844': array([1.02871416, 1.03906529, 1.03795952]),\n",
       "   '852r': array([1.03221878, 1.04265232, 1.04117322]),\n",
       "   '888': array([1.00445821, 1.01495855, 1.01350509]),\n",
       "   '856': array([0.        , 1.01353441, 0.        ]),\n",
       "   '852': array([0.98901621, 0.99306004, 0.99164263]),\n",
       "   '864': array([1.03064487, 0.        , 0.        ]),\n",
       "   '838': array([0.        , 1.03854818, 0.        ])}}]"
      ]
     },
     "execution_count": 18,
     "metadata": {},
     "output_type": "execute_result"
    }
   ],
   "source": [
    "Scenarios"
   ]
  },
  {
   "cell_type": "code",
   "execution_count": null,
   "id": "715d12bb",
   "metadata": {},
   "outputs": [],
   "source": []
  }
 ],
 "metadata": {
  "kernelspec": {
   "display_name": "Python 3 (ipykernel)",
   "language": "python",
   "name": "python3"
  },
  "language_info": {
   "codemirror_mode": {
    "name": "ipython",
    "version": 3
   },
   "file_extension": ".py",
   "mimetype": "text/x-python",
   "name": "python",
   "nbconvert_exporter": "python",
   "pygments_lexer": "ipython3",
   "version": "3.9.12"
  }
 },
 "nbformat": 4,
 "nbformat_minor": 5
}
